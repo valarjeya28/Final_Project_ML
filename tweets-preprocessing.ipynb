{
 "cells": [
  {
   "cell_type": "code",
   "execution_count": 1,
   "metadata": {},
   "outputs": [
    {
     "name": "stderr",
     "output_type": "stream",
     "text": [
      "Using TensorFlow backend.\n"
     ]
    }
   ],
   "source": [
    "import pandas as pd\n",
    "import numpy as np\n",
    "\n",
    "import nltk\n",
    "# nltk.download()\n",
    "from nltk.corpus import stopwords\n",
    "\n",
    "import re\n",
    "\n",
    "from sklearn.model_selection import train_test_split\n",
    "# !pip install -U gensim\n",
    "import gensim\n",
    "\n",
    "from keras.preprocessing.text import Tokenizer\n",
    "from keras.preprocessing.sequence import pad_sequences\n",
    "\n",
    "from keras.models import Sequential\n",
    "from keras.layers import Activation, Dense, Dropout, LSTM, Embedding\n",
    "from keras.utils import to_categorical"
   ]
  },
  {
   "cell_type": "code",
   "execution_count": 2,
   "metadata": {},
   "outputs": [],
   "source": [
    "data = pd.read_csv(\"Resources/CL_data/train.csv\")"
   ]
  },
  {
   "cell_type": "code",
   "execution_count": 3,
   "metadata": {},
   "outputs": [
    {
     "data": {
      "text/html": [
       "<div>\n",
       "<style scoped>\n",
       "    .dataframe tbody tr th:only-of-type {\n",
       "        vertical-align: middle;\n",
       "    }\n",
       "\n",
       "    .dataframe tbody tr th {\n",
       "        vertical-align: top;\n",
       "    }\n",
       "\n",
       "    .dataframe thead th {\n",
       "        text-align: right;\n",
       "    }\n",
       "</style>\n",
       "<table border=\"1\" class=\"dataframe\">\n",
       "  <thead>\n",
       "    <tr style=\"text-align: right;\">\n",
       "      <th></th>\n",
       "      <th>Id</th>\n",
       "      <th>Category</th>\n",
       "      <th>Tweet</th>\n",
       "    </tr>\n",
       "  </thead>\n",
       "  <tbody>\n",
       "    <tr>\n",
       "      <th>0</th>\n",
       "      <td>639976673685962000</td>\n",
       "      <td>0</td>\n",
       "      <td>And @whytology article 3 gives SCOTUS no legis...</td>\n",
       "    </tr>\n",
       "    <tr>\n",
       "      <th>1</th>\n",
       "      <td>641539752177586000</td>\n",
       "      <td>0</td>\n",
       "      <td>And 2nd it wasnt harrys fault that he had ran ...</td>\n",
       "    </tr>\n",
       "    <tr>\n",
       "      <th>2</th>\n",
       "      <td>639767721073315000</td>\n",
       "      <td>0</td>\n",
       "      <td>And I don't know about TGIF. Fridays are terri...</td>\n",
       "    </tr>\n",
       "    <tr>\n",
       "      <th>3</th>\n",
       "      <td>638850695349800000</td>\n",
       "      <td>0</td>\n",
       "      <td>And if my day wasn't bad enough already, Snoop...</td>\n",
       "    </tr>\n",
       "    <tr>\n",
       "      <th>4</th>\n",
       "      <td>638783969568366000</td>\n",
       "      <td>0</td>\n",
       "      <td>And in comes Sony with the letdown. Only one c...</td>\n",
       "    </tr>\n",
       "  </tbody>\n",
       "</table>\n",
       "</div>"
      ],
      "text/plain": [
       "                   Id  Category  \\\n",
       "0  639976673685962000         0   \n",
       "1  641539752177586000         0   \n",
       "2  639767721073315000         0   \n",
       "3  638850695349800000         0   \n",
       "4  638783969568366000         0   \n",
       "\n",
       "                                               Tweet  \n",
       "0  And @whytology article 3 gives SCOTUS no legis...  \n",
       "1  And 2nd it wasnt harrys fault that he had ran ...  \n",
       "2  And I don't know about TGIF. Fridays are terri...  \n",
       "3  And if my day wasn't bad enough already, Snoop...  \n",
       "4  And in comes Sony with the letdown. Only one c...  "
      ]
     },
     "execution_count": 3,
     "metadata": {},
     "output_type": "execute_result"
    }
   ],
   "source": [
    "data.head()"
   ]
  },
  {
   "cell_type": "code",
   "execution_count": 4,
   "metadata": {},
   "outputs": [],
   "source": [
    "data.rename(columns={'Id':'id',\n",
    "                          'Category':'label',\n",
    "                          'Tweet':'tweet'}, \n",
    "                 inplace=True)"
   ]
  },
  {
   "cell_type": "code",
   "execution_count": 5,
   "metadata": {},
   "outputs": [
    {
     "data": {
      "text/html": [
       "<div>\n",
       "<style scoped>\n",
       "    .dataframe tbody tr th:only-of-type {\n",
       "        vertical-align: middle;\n",
       "    }\n",
       "\n",
       "    .dataframe tbody tr th {\n",
       "        vertical-align: top;\n",
       "    }\n",
       "\n",
       "    .dataframe thead th {\n",
       "        text-align: right;\n",
       "    }\n",
       "</style>\n",
       "<table border=\"1\" class=\"dataframe\">\n",
       "  <thead>\n",
       "    <tr style=\"text-align: right;\">\n",
       "      <th></th>\n",
       "      <th>id</th>\n",
       "      <th>label</th>\n",
       "      <th>tweet</th>\n",
       "    </tr>\n",
       "  </thead>\n",
       "  <tbody>\n",
       "    <tr>\n",
       "      <th>0</th>\n",
       "      <td>639976673685962000</td>\n",
       "      <td>0</td>\n",
       "      <td>And @whytology article 3 gives SCOTUS no legis...</td>\n",
       "    </tr>\n",
       "    <tr>\n",
       "      <th>1</th>\n",
       "      <td>641539752177586000</td>\n",
       "      <td>0</td>\n",
       "      <td>And 2nd it wasnt harrys fault that he had ran ...</td>\n",
       "    </tr>\n",
       "    <tr>\n",
       "      <th>2</th>\n",
       "      <td>639767721073315000</td>\n",
       "      <td>0</td>\n",
       "      <td>And I don't know about TGIF. Fridays are terri...</td>\n",
       "    </tr>\n",
       "    <tr>\n",
       "      <th>3</th>\n",
       "      <td>638850695349800000</td>\n",
       "      <td>0</td>\n",
       "      <td>And if my day wasn't bad enough already, Snoop...</td>\n",
       "    </tr>\n",
       "    <tr>\n",
       "      <th>4</th>\n",
       "      <td>638783969568366000</td>\n",
       "      <td>0</td>\n",
       "      <td>And in comes Sony with the letdown. Only one c...</td>\n",
       "    </tr>\n",
       "  </tbody>\n",
       "</table>\n",
       "</div>"
      ],
      "text/plain": [
       "                   id  label  \\\n",
       "0  639976673685962000      0   \n",
       "1  641539752177586000      0   \n",
       "2  639767721073315000      0   \n",
       "3  638850695349800000      0   \n",
       "4  638783969568366000      0   \n",
       "\n",
       "                                               tweet  \n",
       "0  And @whytology article 3 gives SCOTUS no legis...  \n",
       "1  And 2nd it wasnt harrys fault that he had ran ...  \n",
       "2  And I don't know about TGIF. Fridays are terri...  \n",
       "3  And if my day wasn't bad enough already, Snoop...  \n",
       "4  And in comes Sony with the letdown. Only one c...  "
      ]
     },
     "execution_count": 5,
     "metadata": {},
     "output_type": "execute_result"
    }
   ],
   "source": [
    "data.head()"
   ]
  },
  {
   "cell_type": "code",
   "execution_count": 6,
   "metadata": {},
   "outputs": [
    {
     "data": {
      "text/plain": [
       "(2742, 3)"
      ]
     },
     "execution_count": 6,
     "metadata": {},
     "output_type": "execute_result"
    }
   ],
   "source": [
    "data.shape"
   ]
  },
  {
   "cell_type": "code",
   "execution_count": 7,
   "metadata": {},
   "outputs": [
    {
     "data": {
      "text/plain": [
       "1    2165\n",
       "0     577\n",
       "Name: label, dtype: int64"
      ]
     },
     "execution_count": 7,
     "metadata": {},
     "output_type": "execute_result"
    }
   ],
   "source": [
    "data[\"label\"].value_counts()"
   ]
  },
  {
   "cell_type": "markdown",
   "metadata": {},
   "source": [
    "## Cleaning the data"
   ]
  },
  {
   "cell_type": "code",
   "execution_count": 8,
   "metadata": {},
   "outputs": [],
   "source": [
    "# dropping id column\n",
    "\n",
    "data = data.drop(\"id\", axis=1)"
   ]
  },
  {
   "cell_type": "code",
   "execution_count": 9,
   "metadata": {},
   "outputs": [],
   "source": [
    "stopwords = stopwords.words('english')"
   ]
  },
  {
   "cell_type": "code",
   "execution_count": 10,
   "metadata": {},
   "outputs": [],
   "source": [
    "def tweet_cleaner(tweet):\n",
    "    tweet = re.sub(r\"@\\w*\", \" \", str(tweet).lower()).strip() #removing username\n",
    "    tweet = re.sub(r'https?://[A-Za-z0-9./]+', \" \", str(tweet).lower()).strip() #removing links\n",
    "    tweet = re.sub(r'[^a-zA-Z]', \" \", str(tweet).lower()).strip() #removing sp_char\n",
    "    tw = []\n",
    "    \n",
    "    for text in tweet.split():\n",
    "        if text not in stopwords:\n",
    "            tw.append(text)\n",
    "    \n",
    "    return \" \".join(tw)"
   ]
  },
  {
   "cell_type": "code",
   "execution_count": 11,
   "metadata": {},
   "outputs": [],
   "source": [
    "data.tweet = data.tweet.apply(lambda x: tweet_cleaner(x))"
   ]
  },
  {
   "cell_type": "markdown",
   "metadata": {},
   "source": [
    "### word2vec"
   ]
  },
  {
   "cell_type": "code",
   "execution_count": 12,
   "metadata": {},
   "outputs": [],
   "source": [
    "documents = [text.split() for text in data.tweet]"
   ]
  },
  {
   "cell_type": "code",
   "execution_count": 13,
   "metadata": {},
   "outputs": [
    {
     "data": {
      "text/plain": [
       "2742"
      ]
     },
     "execution_count": 13,
     "metadata": {},
     "output_type": "execute_result"
    }
   ],
   "source": [
    "len(documents)"
   ]
  },
  {
   "cell_type": "code",
   "execution_count": 14,
   "metadata": {},
   "outputs": [],
   "source": [
    "w2v_model = gensim.models.word2vec.Word2Vec(size = 256, window = 7, min_count = 5)"
   ]
  },
  {
   "cell_type": "code",
   "execution_count": 15,
   "metadata": {},
   "outputs": [],
   "source": [
    "w2v_model.build_vocab(documents)"
   ]
  },
  {
   "cell_type": "code",
   "execution_count": 16,
   "metadata": {},
   "outputs": [
    {
     "data": {
      "text/plain": [
       "(593893, 967424)"
      ]
     },
     "execution_count": 16,
     "metadata": {},
     "output_type": "execute_result"
    }
   ],
   "source": [
    "w2v_model.train(documents, total_examples=len(documents), epochs=32)"
   ]
  },
  {
   "cell_type": "code",
   "execution_count": 17,
   "metadata": {},
   "outputs": [
    {
     "data": {
      "text/plain": [
       "array([-0.00598909, -0.4722668 , -0.09655412, -0.37244913, -0.08486858,\n",
       "       -0.20167777,  0.20023277,  0.08242609,  0.09362113, -0.12624973,\n",
       "       -0.48497325,  0.34036568,  0.38601735, -0.06259313, -0.2781593 ,\n",
       "       -0.09938415,  0.17153692,  0.20689152, -0.06500493, -0.14593157,\n",
       "       -0.00103552,  0.19058743,  0.12887733,  0.2932889 ,  0.3671027 ,\n",
       "       -0.5019751 , -0.11377428,  0.34662455, -0.45808923, -0.47487524,\n",
       "       -0.23297955,  0.40128368, -0.21937132, -0.12481028,  0.20255196,\n",
       "       -0.33321992,  0.46738693,  0.10047664,  0.1675784 , -0.24538265,\n",
       "        0.08389262, -0.11780208, -0.28360167,  0.308576  ,  0.08450785,\n",
       "        0.1820194 ,  0.04597469,  0.04638813, -0.28724763,  0.29620442,\n",
       "        0.35297784, -0.08294714, -0.29473817, -0.52131206, -0.47529128,\n",
       "        0.14494878,  0.21032952, -0.13607447,  0.0051568 ,  0.15447526,\n",
       "        0.05043015,  0.30377173,  0.143796  , -0.04939755,  0.3214892 ,\n",
       "        0.6144994 , -0.2673427 ,  0.13147832, -0.04759571, -0.01554686,\n",
       "        0.24076791, -0.31909034,  0.44432294,  0.53667307, -0.20553996,\n",
       "       -0.03285199,  0.1083281 ,  0.20728453, -0.04101233,  0.16677302,\n",
       "       -0.08122121, -0.1826563 ,  0.25745136, -0.04664788,  0.26466265,\n",
       "        0.3953257 , -0.3268669 , -0.12046582,  0.22552876,  0.21761473,\n",
       "        0.08828192, -0.17273863,  0.2043136 , -0.11662087,  0.24338995,\n",
       "        0.63401806, -0.2611334 , -0.0020582 , -0.5071346 , -0.20815952,\n",
       "       -0.3236961 , -0.02320341,  0.30774987, -0.10910739, -0.42549887,\n",
       "       -0.12423901,  0.2166344 ,  0.26126876, -0.18224926,  0.1991157 ,\n",
       "       -0.456709  , -0.20844147,  0.27169982,  0.06000154,  0.00576794,\n",
       "        0.19429834, -0.20512421, -0.2558464 ,  0.28099948,  0.12552878,\n",
       "        0.39099097, -0.01837771,  0.36673564,  0.08061078,  0.0341871 ,\n",
       "        0.43718237, -0.3141426 , -0.05070445, -0.15809888,  0.16278015,\n",
       "       -0.1858195 ,  0.32390752, -0.17193346,  0.12159119, -0.19502687,\n",
       "        0.13434725,  0.44970393,  0.02979978, -0.25636375,  0.56801456,\n",
       "        0.08794398,  0.05683233,  0.23485541,  0.35916707, -0.39275742,\n",
       "       -0.37567967, -0.24300137,  0.13294433, -0.32967314,  0.27013835,\n",
       "        0.07024571,  0.11029048, -0.4268742 , -0.05327213, -0.09236658,\n",
       "       -0.13546263,  0.07129082,  0.16529956,  0.18413852, -0.47743392,\n",
       "       -0.03431481, -0.19110647,  0.25485608,  0.14407034, -0.02617691,\n",
       "        0.12020863, -0.04984006, -0.21565793, -0.13188978,  0.04438929,\n",
       "       -0.09316411,  0.5904337 , -0.08545426,  0.13184573, -0.20228711,\n",
       "        0.20719017, -0.1361943 ,  0.07876906, -0.03570183,  0.10408447,\n",
       "       -0.09227924,  0.38530314,  0.10854682,  0.40518597,  0.00097323,\n",
       "       -0.38129145, -0.05953301,  0.22610907, -0.18308741, -0.0776576 ,\n",
       "       -0.2129107 , -0.36784956,  0.3025933 , -0.32163924, -0.4176084 ,\n",
       "       -0.06521659,  0.11359729,  0.6124476 , -0.20010252, -0.40497485,\n",
       "       -0.1662029 , -0.04653719,  0.0898594 ,  0.1901975 ,  0.14238688,\n",
       "        0.23465165,  0.40645027,  0.01313412,  0.2098403 ,  0.12596048,\n",
       "        0.06424765, -0.12641022, -0.4015954 ,  0.15855162, -0.118945  ,\n",
       "       -0.1162857 , -0.13535254, -0.3958892 , -0.28445736, -0.14634682,\n",
       "        0.7442857 , -0.16774727,  0.33682108,  0.35531867, -0.09079529,\n",
       "       -0.10573211, -0.11067005, -0.08192475, -0.2107064 , -0.30125025,\n",
       "        0.1146306 , -0.16970898, -0.24539389, -0.24218047, -0.3628641 ,\n",
       "       -0.0557227 ,  0.45770785, -0.19928588,  0.02217174, -0.22687112,\n",
       "        0.26937032,  0.0902109 ,  0.18820435, -0.01913057,  0.38594118,\n",
       "       -0.46081874, -0.10179928,  0.04636655, -0.05381439, -0.15378423,\n",
       "       -0.22304016, -0.06150637, -0.10532896,  0.00226492, -0.23343025,\n",
       "       -0.09019757], dtype=float32)"
      ]
     },
     "execution_count": 17,
     "metadata": {},
     "output_type": "execute_result"
    }
   ],
   "source": [
    "w2v_model.wv[\"happy\"]"
   ]
  },
  {
   "cell_type": "markdown",
   "metadata": {},
   "source": [
    "### Converting tweets to vectors"
   ]
  },
  {
   "cell_type": "code",
   "execution_count": 34,
   "metadata": {},
   "outputs": [],
   "source": [
    "tokenizer = Tokenizer()\n",
    "tokenizer.fit_on_texts(data.tweet)"
   ]
  },
  {
   "cell_type": "code",
   "execution_count": 35,
   "metadata": {},
   "outputs": [
    {
     "data": {
      "text/plain": [
       "7011"
      ]
     },
     "execution_count": 35,
     "metadata": {},
     "output_type": "execute_result"
    }
   ],
   "source": [
    "len(tokenizer.word_index)"
   ]
  },
  {
   "cell_type": "code",
   "execution_count": 36,
   "metadata": {},
   "outputs": [],
   "source": [
    "x_train = pad_sequences(tokenizer.texts_to_sequences(data.tweet), maxlen=256, padding=\"post\", truncating=\"post\")"
   ]
  },
  {
   "cell_type": "code",
   "execution_count": 37,
   "metadata": {},
   "outputs": [
    {
     "data": {
      "text/plain": [
       "array([[1045, 1046,  363, ...,    0,    0,    0],\n",
       "       [  28, 1779, 2769, ...,    0,    0,    0],\n",
       "       [  33,   37, 2772, ...,    0,    0,    0],\n",
       "       ...,\n",
       "       [ 110,  220,    2, ...,    0,    0,    0],\n",
       "       [ 110, 1262,    2, ...,    0,    0,    0],\n",
       "       [ 110, 7009, 7010, ...,    0,    0,    0]], dtype=int32)"
      ]
     },
     "execution_count": 37,
     "metadata": {},
     "output_type": "execute_result"
    }
   ],
   "source": [
    "x_train"
   ]
  },
  {
   "cell_type": "code",
   "execution_count": 38,
   "metadata": {},
   "outputs": [],
   "source": [
    "y_train = data.label\n",
    "\n",
    "y_train_f = []\n",
    "for x in y_train:\n",
    "    if x == 1:\n",
    "        y_train_f.append(1)\n",
    "    elif x == 0:\n",
    "        y_train_f.append(0)\n",
    "    elif x == -1:\n",
    "        y_train_f.append(2)\n",
    "        \n",
    "y_train_f = to_categorical(y_train_f)"
   ]
  },
  {
   "cell_type": "code",
   "execution_count": 23,
   "metadata": {},
   "outputs": [
    {
     "data": {
      "text/plain": [
       "array([[1., 0.],\n",
       "       [1., 0.],\n",
       "       [1., 0.],\n",
       "       ...,\n",
       "       [0., 1.],\n",
       "       [0., 1.],\n",
       "       [0., 1.]], dtype=float32)"
      ]
     },
     "execution_count": 23,
     "metadata": {},
     "output_type": "execute_result"
    }
   ],
   "source": [
    "y_train_f"
   ]
  },
  {
   "cell_type": "markdown",
   "metadata": {},
   "source": [
    "### Model"
   ]
  },
  {
   "cell_type": "code",
   "execution_count": 24,
   "metadata": {},
   "outputs": [],
   "source": [
    "embedding_matrix = np.zeros((14850,256))"
   ]
  },
  {
   "cell_type": "code",
   "execution_count": 25,
   "metadata": {},
   "outputs": [],
   "source": [
    "for word, i in tokenizer.word_index.items():\n",
    "    if word in w2v_model.wv:\n",
    "        embedding_matrix[i] = w2v_model.wv[word]"
   ]
  },
  {
   "cell_type": "code",
   "execution_count": 26,
   "metadata": {},
   "outputs": [
    {
     "name": "stderr",
     "output_type": "stream",
     "text": [
      "WARNING: Logging before flag parsing goes to stderr.\n",
      "W0726 16:27:07.154638 4562326976 deprecation_wrapper.py:119] From /Users/valarmathipukuraj/anaconda3/lib/python3.7/site-packages/keras/backend/tensorflow_backend.py:74: The name tf.get_default_graph is deprecated. Please use tf.compat.v1.get_default_graph instead.\n",
      "\n"
     ]
    }
   ],
   "source": [
    "embedding_layer = Embedding(14850, 256, weights=[embedding_matrix], input_length=256, trainable=False)"
   ]
  },
  {
   "cell_type": "code",
   "execution_count": 44,
   "metadata": {},
   "outputs": [],
   "source": [
    "model = Sequential()\n",
    "model.add(embedding_layer)\n",
    "model.add(Dropout(0.25))\n",
    "model.add(Dense(200, activation=\"relu\"))\n",
    "model.add(Dropout(0.25))\n",
    "model.add(LSTM(100, dropout=0.2, recurrent_dropout=0.2))\n",
    "model.add(Dense(50, activation=\"relu\"))\n",
    "model.add(Dense(100, activation=\"relu\"))\n",
    "model.add(Dense(2, activation=\"softmax\"))"
   ]
  },
  {
   "cell_type": "code",
   "execution_count": 45,
   "metadata": {},
   "outputs": [
    {
     "name": "stdout",
     "output_type": "stream",
     "text": [
      "_________________________________________________________________\n",
      "Layer (type)                 Output Shape              Param #   \n",
      "=================================================================\n",
      "embedding_1 (Embedding)      (None, 256, 256)          3801600   \n",
      "_________________________________________________________________\n",
      "dropout_3 (Dropout)          (None, 256, 256)          0         \n",
      "_________________________________________________________________\n",
      "dense_4 (Dense)              (None, 256, 200)          51400     \n",
      "_________________________________________________________________\n",
      "dropout_4 (Dropout)          (None, 256, 200)          0         \n",
      "_________________________________________________________________\n",
      "lstm_2 (LSTM)                (None, 100)               120400    \n",
      "_________________________________________________________________\n",
      "dense_5 (Dense)              (None, 50)                5050      \n",
      "_________________________________________________________________\n",
      "dense_6 (Dense)              (None, 100)               5100      \n",
      "_________________________________________________________________\n",
      "dense_7 (Dense)              (None, 2)                 202       \n",
      "=================================================================\n",
      "Total params: 3,983,752\n",
      "Trainable params: 182,152\n",
      "Non-trainable params: 3,801,600\n",
      "_________________________________________________________________\n"
     ]
    }
   ],
   "source": [
    "model.summary()"
   ]
  },
  {
   "cell_type": "code",
   "execution_count": 46,
   "metadata": {},
   "outputs": [],
   "source": [
    "model.compile(loss='categorical_crossentropy',\n",
    "              optimizer=\"adam\",\n",
    "              metrics=['accuracy'])"
   ]
  },
  {
   "cell_type": "code",
   "execution_count": 47,
   "metadata": {},
   "outputs": [
    {
     "name": "stdout",
     "output_type": "stream",
     "text": [
      "Train on 2467 samples, validate on 275 samples\n",
      "Epoch 1/10\n",
      "2467/2467 [==============================] - 31s 12ms/step - loss: 0.5697 - acc: 0.7580 - val_loss: 0.2665 - val_acc: 1.0000\n",
      "Epoch 2/10\n",
      "2467/2467 [==============================] - 29s 12ms/step - loss: 0.5465 - acc: 0.7661 - val_loss: 0.2281 - val_acc: 1.0000\n",
      "Epoch 3/10\n",
      "2467/2467 [==============================] - 30s 12ms/step - loss: 0.5468 - acc: 0.7661 - val_loss: 0.1995 - val_acc: 1.0000\n",
      "Epoch 4/10\n",
      "2467/2467 [==============================] - 43s 17ms/step - loss: 0.5464 - acc: 0.7661 - val_loss: 0.2597 - val_acc: 1.0000\n",
      "Epoch 5/10\n",
      "2467/2467 [==============================] - 38s 15ms/step - loss: 0.5443 - acc: 0.7661 - val_loss: 0.2190 - val_acc: 1.0000\n",
      "Epoch 6/10\n",
      "2467/2467 [==============================] - 42s 17ms/step - loss: 0.5451 - acc: 0.7661 - val_loss: 0.2779 - val_acc: 1.0000\n",
      "Epoch 7/10\n",
      "2467/2467 [==============================] - 46s 19ms/step - loss: 0.5454 - acc: 0.7661 - val_loss: 0.2590 - val_acc: 1.0000\n",
      "Epoch 8/10\n",
      "2467/2467 [==============================] - 40s 16ms/step - loss: 0.5457 - acc: 0.7661 - val_loss: 0.2661 - val_acc: 1.0000\n",
      "Epoch 9/10\n",
      "2467/2467 [==============================] - 42s 17ms/step - loss: 0.5470 - acc: 0.7661 - val_loss: 0.2493 - val_acc: 1.0000\n",
      "Epoch 10/10\n",
      "2467/2467 [==============================] - 39s 16ms/step - loss: 0.5446 - acc: 0.7661 - val_loss: 0.3020 - val_acc: 1.0000\n"
     ]
    },
    {
     "data": {
      "text/plain": [
       "<keras.callbacks.History at 0x1a350c5e48>"
      ]
     },
     "execution_count": 47,
     "metadata": {},
     "output_type": "execute_result"
    }
   ],
   "source": [
    "model.fit(x_train, y_train_f, batch_size=32, epochs=10, validation_split=0.1, verbose=1)"
   ]
  },
  {
   "cell_type": "markdown",
   "metadata": {},
   "source": [
    "# Testing"
   ]
  },
  {
   "cell_type": "code",
   "execution_count": 42,
   "metadata": {},
   "outputs": [],
   "source": [
    "def sentiment(text):\n",
    "    \n",
    "    x_test = pad_sequences(tokenizer.texts_to_sequences([text]), maxlen=256)\n",
    "    score = model.predict([x_test])[0]\n",
    "    \n",
    "    final = \"Accuracy = %f ,value loss = %f\" % (score[1], score[0])\n",
    "    return print(final)"
   ]
  },
  {
   "cell_type": "code",
   "execution_count": 43,
   "metadata": {},
   "outputs": [
    {
     "name": "stdout",
     "output_type": "stream",
     "text": [
      "Accuracy = 0.764084 ,value loss = 0.235916\n"
     ]
    }
   ],
   "source": [
    "sentiment(\" It's grotesque, it's barbaric\")"
   ]
  },
  {
   "cell_type": "code",
   "execution_count": null,
   "metadata": {},
   "outputs": [],
   "source": []
  }
 ],
 "metadata": {
  "kernelspec": {
   "display_name": "Python 3",
   "language": "python",
   "name": "python3"
  },
  "language_info": {
   "codemirror_mode": {
    "name": "ipython",
    "version": 3
   },
   "file_extension": ".py",
   "mimetype": "text/x-python",
   "name": "python",
   "nbconvert_exporter": "python",
   "pygments_lexer": "ipython3",
   "version": "3.7.1"
  }
 },
 "nbformat": 4,
 "nbformat_minor": 1
}
