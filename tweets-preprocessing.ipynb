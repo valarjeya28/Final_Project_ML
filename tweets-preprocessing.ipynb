{
 "cells": [
  {
   "cell_type": "code",
   "execution_count": 1,
   "metadata": {},
   "outputs": [
    {
     "name": "stderr",
     "output_type": "stream",
     "text": [
      "Using TensorFlow backend.\n"
     ]
    }
   ],
   "source": [
    "import pandas as pd\n",
    "import numpy as np\n",
    "\n",
    "import nltk\n",
    "# nltk.download()\n",
    "from nltk.corpus import stopwords\n",
    "\n",
    "import re\n",
    "\n",
    "from sklearn.model_selection import train_test_split\n",
    "# !pip install -U gensim\n",
    "import gensim\n",
    "\n",
    "from keras.preprocessing.text import Tokenizer\n",
    "from keras.preprocessing.sequence import pad_sequences\n",
    "\n",
    "from keras.models import Sequential\n",
    "from keras.layers import Activation, Dense, Dropout, LSTM, Embedding\n",
    "from keras.utils import to_categorical"
   ]
  },
  {
   "cell_type": "code",
   "execution_count": 2,
   "metadata": {},
   "outputs": [],
   "source": [
    "data = pd.read_csv(\"Resources/CL_data/train.csv\")"
   ]
  },
  {
   "cell_type": "code",
   "execution_count": 3,
   "metadata": {},
   "outputs": [
    {
     "data": {
      "text/html": [
       "<div>\n",
       "<style scoped>\n",
       "    .dataframe tbody tr th:only-of-type {\n",
       "        vertical-align: middle;\n",
       "    }\n",
       "\n",
       "    .dataframe tbody tr th {\n",
       "        vertical-align: top;\n",
       "    }\n",
       "\n",
       "    .dataframe thead th {\n",
       "        text-align: right;\n",
       "    }\n",
       "</style>\n",
       "<table border=\"1\" class=\"dataframe\">\n",
       "  <thead>\n",
       "    <tr style=\"text-align: right;\">\n",
       "      <th></th>\n",
       "      <th>Id</th>\n",
       "      <th>Category</th>\n",
       "      <th>Tweet</th>\n",
       "    </tr>\n",
       "  </thead>\n",
       "  <tbody>\n",
       "    <tr>\n",
       "      <th>0</th>\n",
       "      <td>639976673685962000</td>\n",
       "      <td>0</td>\n",
       "      <td>And @whytology article 3 gives SCOTUS no legis...</td>\n",
       "    </tr>\n",
       "    <tr>\n",
       "      <th>1</th>\n",
       "      <td>641539752177586000</td>\n",
       "      <td>0</td>\n",
       "      <td>And 2nd it wasnt harrys fault that he had ran ...</td>\n",
       "    </tr>\n",
       "    <tr>\n",
       "      <th>2</th>\n",
       "      <td>639767721073315000</td>\n",
       "      <td>0</td>\n",
       "      <td>And I don't know about TGIF. Fridays are terri...</td>\n",
       "    </tr>\n",
       "    <tr>\n",
       "      <th>3</th>\n",
       "      <td>638850695349800000</td>\n",
       "      <td>0</td>\n",
       "      <td>And if my day wasn't bad enough already, Snoop...</td>\n",
       "    </tr>\n",
       "    <tr>\n",
       "      <th>4</th>\n",
       "      <td>638783969568366000</td>\n",
       "      <td>0</td>\n",
       "      <td>And in comes Sony with the letdown. Only one c...</td>\n",
       "    </tr>\n",
       "  </tbody>\n",
       "</table>\n",
       "</div>"
      ],
      "text/plain": [
       "                   Id  Category  \\\n",
       "0  639976673685962000         0   \n",
       "1  641539752177586000         0   \n",
       "2  639767721073315000         0   \n",
       "3  638850695349800000         0   \n",
       "4  638783969568366000         0   \n",
       "\n",
       "                                               Tweet  \n",
       "0  And @whytology article 3 gives SCOTUS no legis...  \n",
       "1  And 2nd it wasnt harrys fault that he had ran ...  \n",
       "2  And I don't know about TGIF. Fridays are terri...  \n",
       "3  And if my day wasn't bad enough already, Snoop...  \n",
       "4  And in comes Sony with the letdown. Only one c...  "
      ]
     },
     "execution_count": 3,
     "metadata": {},
     "output_type": "execute_result"
    }
   ],
   "source": [
    "data.head()"
   ]
  },
  {
   "cell_type": "code",
   "execution_count": 4,
   "metadata": {},
   "outputs": [],
   "source": [
    "data.rename(columns={'Id':'id',\n",
    "                          'Category':'label',\n",
    "                          'Tweet':'tweet'}, \n",
    "                 inplace=True)"
   ]
  },
  {
   "cell_type": "code",
   "execution_count": 5,
   "metadata": {},
   "outputs": [
    {
     "data": {
      "text/html": [
       "<div>\n",
       "<style scoped>\n",
       "    .dataframe tbody tr th:only-of-type {\n",
       "        vertical-align: middle;\n",
       "    }\n",
       "\n",
       "    .dataframe tbody tr th {\n",
       "        vertical-align: top;\n",
       "    }\n",
       "\n",
       "    .dataframe thead th {\n",
       "        text-align: right;\n",
       "    }\n",
       "</style>\n",
       "<table border=\"1\" class=\"dataframe\">\n",
       "  <thead>\n",
       "    <tr style=\"text-align: right;\">\n",
       "      <th></th>\n",
       "      <th>id</th>\n",
       "      <th>label</th>\n",
       "      <th>tweet</th>\n",
       "    </tr>\n",
       "  </thead>\n",
       "  <tbody>\n",
       "    <tr>\n",
       "      <th>0</th>\n",
       "      <td>639976673685962000</td>\n",
       "      <td>0</td>\n",
       "      <td>And @whytology article 3 gives SCOTUS no legis...</td>\n",
       "    </tr>\n",
       "    <tr>\n",
       "      <th>1</th>\n",
       "      <td>641539752177586000</td>\n",
       "      <td>0</td>\n",
       "      <td>And 2nd it wasnt harrys fault that he had ran ...</td>\n",
       "    </tr>\n",
       "    <tr>\n",
       "      <th>2</th>\n",
       "      <td>639767721073315000</td>\n",
       "      <td>0</td>\n",
       "      <td>And I don't know about TGIF. Fridays are terri...</td>\n",
       "    </tr>\n",
       "    <tr>\n",
       "      <th>3</th>\n",
       "      <td>638850695349800000</td>\n",
       "      <td>0</td>\n",
       "      <td>And if my day wasn't bad enough already, Snoop...</td>\n",
       "    </tr>\n",
       "    <tr>\n",
       "      <th>4</th>\n",
       "      <td>638783969568366000</td>\n",
       "      <td>0</td>\n",
       "      <td>And in comes Sony with the letdown. Only one c...</td>\n",
       "    </tr>\n",
       "  </tbody>\n",
       "</table>\n",
       "</div>"
      ],
      "text/plain": [
       "                   id  label  \\\n",
       "0  639976673685962000      0   \n",
       "1  641539752177586000      0   \n",
       "2  639767721073315000      0   \n",
       "3  638850695349800000      0   \n",
       "4  638783969568366000      0   \n",
       "\n",
       "                                               tweet  \n",
       "0  And @whytology article 3 gives SCOTUS no legis...  \n",
       "1  And 2nd it wasnt harrys fault that he had ran ...  \n",
       "2  And I don't know about TGIF. Fridays are terri...  \n",
       "3  And if my day wasn't bad enough already, Snoop...  \n",
       "4  And in comes Sony with the letdown. Only one c...  "
      ]
     },
     "execution_count": 5,
     "metadata": {},
     "output_type": "execute_result"
    }
   ],
   "source": [
    "data.head()"
   ]
  },
  {
   "cell_type": "code",
   "execution_count": 6,
   "metadata": {},
   "outputs": [
    {
     "data": {
      "text/plain": [
       "(2742, 3)"
      ]
     },
     "execution_count": 6,
     "metadata": {},
     "output_type": "execute_result"
    }
   ],
   "source": [
    "data.shape"
   ]
  },
  {
   "cell_type": "code",
   "execution_count": 7,
   "metadata": {},
   "outputs": [
    {
     "data": {
      "text/plain": [
       "1    2165\n",
       "0     577\n",
       "Name: label, dtype: int64"
      ]
     },
     "execution_count": 7,
     "metadata": {},
     "output_type": "execute_result"
    }
   ],
   "source": [
    "data[\"label\"].value_counts()"
   ]
  },
  {
   "cell_type": "markdown",
   "metadata": {},
   "source": [
    "## Cleaning the data"
   ]
  },
  {
   "cell_type": "code",
   "execution_count": 8,
   "metadata": {},
   "outputs": [],
   "source": [
    "# dropping id column\n",
    "\n",
    "data = data.drop(\"id\", axis=1)"
   ]
  },
  {
   "cell_type": "code",
   "execution_count": 9,
   "metadata": {},
   "outputs": [],
   "source": [
    "stopwords = stopwords.words('english')"
   ]
  },
  {
   "cell_type": "code",
   "execution_count": 10,
   "metadata": {},
   "outputs": [],
   "source": [
    "def tweet_cleaner(tweet):\n",
    "    tweet = re.sub(r\"@\\w*\", \" \", str(tweet).lower()).strip() #removing username\n",
    "    tweet = re.sub(r'https?://[A-Za-z0-9./]+', \" \", str(tweet).lower()).strip() #removing links\n",
    "    tweet = re.sub(r'[^a-zA-Z]', \" \", str(tweet).lower()).strip() #removing sp_char\n",
    "    tw = []\n",
    "    \n",
    "    for text in tweet.split():\n",
    "        if text not in stopwords:\n",
    "            tw.append(text)\n",
    "    \n",
    "    return \" \".join(tw)"
   ]
  },
  {
   "cell_type": "code",
   "execution_count": 11,
   "metadata": {},
   "outputs": [],
   "source": [
    "data.tweet = data.tweet.apply(lambda x: tweet_cleaner(x))"
   ]
  },
  {
   "cell_type": "markdown",
   "metadata": {},
   "source": [
    "### word2vec"
   ]
  },
  {
   "cell_type": "code",
   "execution_count": 12,
   "metadata": {},
   "outputs": [],
   "source": [
    "documents = [text.split() for text in data.tweet]"
   ]
  },
  {
   "cell_type": "code",
   "execution_count": 13,
   "metadata": {},
   "outputs": [
    {
     "data": {
      "text/plain": [
       "2742"
      ]
     },
     "execution_count": 13,
     "metadata": {},
     "output_type": "execute_result"
    }
   ],
   "source": [
    "len(documents)"
   ]
  },
  {
   "cell_type": "code",
   "execution_count": 14,
   "metadata": {},
   "outputs": [],
   "source": [
    "w2v_model = gensim.models.word2vec.Word2Vec(size = 256, window = 7, min_count = 5)"
   ]
  },
  {
   "cell_type": "code",
   "execution_count": 15,
   "metadata": {},
   "outputs": [],
   "source": [
    "w2v_model.build_vocab(documents)"
   ]
  },
  {
   "cell_type": "code",
   "execution_count": 16,
   "metadata": {},
   "outputs": [
    {
     "data": {
      "text/plain": [
       "(593893, 967424)"
      ]
     },
     "execution_count": 16,
     "metadata": {},
     "output_type": "execute_result"
    }
   ],
   "source": [
    "w2v_model.train(documents, total_examples=len(documents), epochs=32)"
   ]
  },
  {
   "cell_type": "code",
   "execution_count": 82,
   "metadata": {},
   "outputs": [
    {
     "data": {
      "text/plain": [
       "array([ 0.05213831, -0.13643545, -0.12848118, -0.03137036, -0.16733742,\n",
       "       -0.35844222,  0.18349892,  0.24100281, -0.10513192, -0.00084092,\n",
       "       -0.09382115,  0.0190608 ,  0.01253311, -0.19807175, -0.25202316,\n",
       "        0.08577892,  0.00742784,  0.03299676, -0.00901942,  0.01562997,\n",
       "       -0.01876138,  0.0836402 , -0.14236046,  0.10583993, -0.03907061,\n",
       "        0.03915321, -0.03240407,  0.06672715, -0.09526563, -0.20083658,\n",
       "       -0.10953088,  0.01815526,  0.0451845 ,  0.1786638 ,  0.10244184,\n",
       "       -0.15505786,  0.12966278, -0.17827111,  0.1243183 , -0.13932452,\n",
       "       -0.04473007, -0.1583606 , -0.06381836,  0.06500481,  0.00120833,\n",
       "       -0.01642324, -0.2556382 , -0.09293447, -0.24231493,  0.07267169,\n",
       "        0.01220249,  0.08600025, -0.15921576, -0.3607427 , -0.09505413,\n",
       "        0.04382204,  0.09672338, -0.12200074,  0.12219553,  0.09155581,\n",
       "       -0.17918134,  0.11814304, -0.08707627,  0.0129184 , -0.07477812,\n",
       "        0.35935998, -0.18669072,  0.03555908, -0.04397948,  0.21152066,\n",
       "        0.00063758, -0.12891546,  0.08260503,  0.12254526, -0.29097432,\n",
       "       -0.03502255,  0.13800588, -0.02545027, -0.05771937, -0.0621165 ,\n",
       "       -0.04180618,  0.12042205, -0.14490993,  0.00396345,  0.09206436,\n",
       "        0.03914401, -0.21304472, -0.09668323,  0.01850783,  0.25747904,\n",
       "       -0.01094567, -0.09278626,  0.07411247, -0.11874059, -0.05097129,\n",
       "        0.32760462, -0.1159946 ,  0.13046223, -0.13749383,  0.01057902,\n",
       "       -0.00288848, -0.18404062,  0.16559741,  0.17303161, -0.12452034,\n",
       "       -0.04179668,  0.26792198,  0.13827716, -0.03503384,  0.14784485,\n",
       "       -0.00324897, -0.17194977,  0.1563255 , -0.06261035,  0.03432795,\n",
       "        0.03546011,  0.0210262 , -0.04408954,  0.10303517,  0.03077291,\n",
       "        0.24650201,  0.22299053, -0.02488632, -0.2658149 , -0.01435194,\n",
       "        0.31311706, -0.06483049,  0.00447019, -0.12572187,  0.08075614,\n",
       "        0.00217476,  0.08779394,  0.02753428,  0.133675  , -0.03899284,\n",
       "        0.01668475,  0.375454  ,  0.05294629, -0.05929436,  0.30466667,\n",
       "       -0.13909912, -0.12004968,  0.20734279, -0.07234076,  0.01285041,\n",
       "       -0.09354644, -0.00146853, -0.03966931,  0.0438814 ,  0.04713567,\n",
       "        0.01028291,  0.07346407, -0.11284867,  0.04568271, -0.08238982,\n",
       "       -0.03924062, -0.07598595, -0.09937956,  0.0383584 , -0.06541391,\n",
       "        0.081003  , -0.11035791, -0.04426298, -0.05016262, -0.07611322,\n",
       "       -0.13813575, -0.04514235,  0.13944437, -0.0020194 , -0.0695553 ,\n",
       "       -0.13356838,  0.08040938,  0.05393001,  0.06388457,  0.1627809 ,\n",
       "        0.01623486, -0.11197716,  0.09790183,  0.0309645 , -0.19233353,\n",
       "       -0.0163804 ,  0.20480712,  0.01993827,  0.06417414,  0.12739533,\n",
       "       -0.16037828, -0.09724278,  0.12988363,  0.18588579, -0.22896759,\n",
       "       -0.07425023, -0.09100365, -0.13152939,  0.1223318 , -0.05859416,\n",
       "       -0.02474712,  0.08124629,  0.07616349, -0.04695624, -0.19024768,\n",
       "        0.08349144, -0.10756533,  0.06381827, -0.04167369,  0.07481061,\n",
       "       -0.09749749,  0.00730744,  0.00927529,  0.10558791,  0.1156785 ,\n",
       "        0.21428397,  0.00782942,  0.01984406,  0.1111907 , -0.08317829,\n",
       "       -0.07619889, -0.09955803,  0.0022522 , -0.11622488, -0.06580248,\n",
       "        0.18992081, -0.09214957,  0.11284408,  0.15648837, -0.26078132,\n",
       "       -0.09185914, -0.06756496, -0.05267681, -0.02342024,  0.07594054,\n",
       "       -0.0107733 , -0.03905696, -0.03595518,  0.01800971, -0.02687473,\n",
       "        0.11221535, -0.12700163, -0.07545677,  0.21190603,  0.03914431,\n",
       "        0.07888311,  0.10384747,  0.01297169, -0.1470305 ,  0.01766494,\n",
       "        0.02201006,  0.05075134,  0.17909946,  0.10534656, -0.04073406,\n",
       "       -0.12093357, -0.06774165, -0.06786793,  0.09723096,  0.0365823 ,\n",
       "       -0.11557543], dtype=float32)"
      ]
     },
     "execution_count": 82,
     "metadata": {},
     "output_type": "execute_result"
    }
   ],
   "source": [
    "w2v_model.wv[\"sad\"]"
   ]
  },
  {
   "cell_type": "markdown",
   "metadata": {},
   "source": [
    "### Converting tweets to vectors"
   ]
  },
  {
   "cell_type": "code",
   "execution_count": 83,
   "metadata": {},
   "outputs": [],
   "source": [
    "tokenizer = Tokenizer()\n",
    "tokenizer.fit_on_texts(data.tweet)"
   ]
  },
  {
   "cell_type": "code",
   "execution_count": 84,
   "metadata": {},
   "outputs": [
    {
     "data": {
      "text/plain": [
       "7011"
      ]
     },
     "execution_count": 84,
     "metadata": {},
     "output_type": "execute_result"
    }
   ],
   "source": [
    "len(tokenizer.word_index)"
   ]
  },
  {
   "cell_type": "code",
   "execution_count": 85,
   "metadata": {},
   "outputs": [],
   "source": [
    "x_train = pad_sequences(tokenizer.texts_to_sequences(data.tweet), maxlen=256, padding=\"post\", truncating=\"post\")"
   ]
  },
  {
   "cell_type": "code",
   "execution_count": 86,
   "metadata": {},
   "outputs": [
    {
     "data": {
      "text/plain": [
       "array([[1045, 1046,  363, ...,    0,    0,    0],\n",
       "       [  28, 1779, 2769, ...,    0,    0,    0],\n",
       "       [  33,   37, 2772, ...,    0,    0,    0],\n",
       "       ...,\n",
       "       [ 110,  220,    2, ...,    0,    0,    0],\n",
       "       [ 110, 1262,    2, ...,    0,    0,    0],\n",
       "       [ 110, 7009, 7010, ...,    0,    0,    0]], dtype=int32)"
      ]
     },
     "execution_count": 86,
     "metadata": {},
     "output_type": "execute_result"
    }
   ],
   "source": [
    "x_train"
   ]
  },
  {
   "cell_type": "code",
   "execution_count": 87,
   "metadata": {},
   "outputs": [],
   "source": [
    "y_train = data.label\n",
    "\n",
    "y_train_f = []\n",
    "for x in y_train:\n",
    "    if x == 1:\n",
    "        y_train_f.append(1)\n",
    "    elif x == 0:\n",
    "        y_train_f.append(0)\n",
    "    elif x == -1:\n",
    "        y_train_f.append(2)\n",
    "        \n",
    "y_train_f = to_categorical(y_train_f)"
   ]
  },
  {
   "cell_type": "code",
   "execution_count": 88,
   "metadata": {},
   "outputs": [
    {
     "data": {
      "text/plain": [
       "array([[1., 0.],\n",
       "       [1., 0.],\n",
       "       [1., 0.],\n",
       "       ...,\n",
       "       [0., 1.],\n",
       "       [0., 1.],\n",
       "       [0., 1.]], dtype=float32)"
      ]
     },
     "execution_count": 88,
     "metadata": {},
     "output_type": "execute_result"
    }
   ],
   "source": [
    "y_train_f"
   ]
  },
  {
   "cell_type": "markdown",
   "metadata": {},
   "source": [
    "### Model"
   ]
  },
  {
   "cell_type": "code",
   "execution_count": 89,
   "metadata": {},
   "outputs": [],
   "source": [
    "embedding_matrix = np.zeros((14850,256))"
   ]
  },
  {
   "cell_type": "code",
   "execution_count": 90,
   "metadata": {},
   "outputs": [],
   "source": [
    "for word, i in tokenizer.word_index.items():\n",
    "    if word in w2v_model.wv:\n",
    "        embedding_matrix[i] = w2v_model.wv[word]"
   ]
  },
  {
   "cell_type": "code",
   "execution_count": 91,
   "metadata": {},
   "outputs": [],
   "source": [
    "embedding_layer = Embedding(14850, 256, weights=[embedding_matrix], input_length=256, trainable=False)"
   ]
  },
  {
   "cell_type": "code",
   "execution_count": 92,
   "metadata": {},
   "outputs": [],
   "source": [
    "model = Sequential()\n",
    "model.add(embedding_layer)\n",
    "model.add(Dropout(0.25))\n",
    "model.add(Dense(200, activation=\"relu\"))\n",
    "model.add(Dropout(0.25))\n",
    "model.add(LSTM(100, dropout=0.2, recurrent_dropout=0.2))\n",
    "model.add(Dense(50, activation=\"relu\"))\n",
    "model.add(Dense(100, activation=\"relu\"))\n",
    "model.add(Dense(2, activation=\"softmax\"))"
   ]
  },
  {
   "cell_type": "code",
   "execution_count": 93,
   "metadata": {},
   "outputs": [
    {
     "name": "stdout",
     "output_type": "stream",
     "text": [
      "_________________________________________________________________\n",
      "Layer (type)                 Output Shape              Param #   \n",
      "=================================================================\n",
      "embedding_3 (Embedding)      (None, 256, 256)          3801600   \n",
      "_________________________________________________________________\n",
      "dropout_7 (Dropout)          (None, 256, 256)          0         \n",
      "_________________________________________________________________\n",
      "dense_12 (Dense)             (None, 256, 200)          51400     \n",
      "_________________________________________________________________\n",
      "dropout_8 (Dropout)          (None, 256, 200)          0         \n",
      "_________________________________________________________________\n",
      "lstm_4 (LSTM)                (None, 100)               120400    \n",
      "_________________________________________________________________\n",
      "dense_13 (Dense)             (None, 50)                5050      \n",
      "_________________________________________________________________\n",
      "dense_14 (Dense)             (None, 100)               5100      \n",
      "_________________________________________________________________\n",
      "dense_15 (Dense)             (None, 2)                 202       \n",
      "=================================================================\n",
      "Total params: 3,983,752\n",
      "Trainable params: 182,152\n",
      "Non-trainable params: 3,801,600\n",
      "_________________________________________________________________\n"
     ]
    }
   ],
   "source": [
    "model.summary()"
   ]
  },
  {
   "cell_type": "code",
   "execution_count": 94,
   "metadata": {},
   "outputs": [],
   "source": [
    "model.compile(loss='categorical_crossentropy',\n",
    "              optimizer=\"adam\",\n",
    "              metrics=['accuracy'])"
   ]
  },
  {
   "cell_type": "code",
   "execution_count": 95,
   "metadata": {},
   "outputs": [
    {
     "name": "stdout",
     "output_type": "stream",
     "text": [
      "Train on 2467 samples, validate on 275 samples\n",
      "Epoch 1/10\n",
      "2467/2467 [==============================] - 32s 13ms/step - loss: 0.5633 - acc: 0.7588 - val_loss: 0.2721 - val_acc: 1.0000\n",
      "Epoch 2/10\n",
      "2467/2467 [==============================] - 30s 12ms/step - loss: 0.5493 - acc: 0.7661 - val_loss: 0.3075 - val_acc: 1.0000\n",
      "Epoch 3/10\n",
      "2467/2467 [==============================] - 30s 12ms/step - loss: 0.5447 - acc: 0.7661 - val_loss: 0.2193 - val_acc: 1.0000\n",
      "Epoch 4/10\n",
      "2467/2467 [==============================] - 32s 13ms/step - loss: 0.5465 - acc: 0.7661 - val_loss: 0.2733 - val_acc: 1.0000\n",
      "Epoch 5/10\n",
      "2467/2467 [==============================] - 32s 13ms/step - loss: 0.5480 - acc: 0.7661 - val_loss: 0.2894 - val_acc: 1.0000\n",
      "Epoch 6/10\n",
      "2467/2467 [==============================] - 31s 13ms/step - loss: 0.5481 - acc: 0.7661 - val_loss: 0.3198 - val_acc: 1.0000\n",
      "Epoch 7/10\n",
      "2467/2467 [==============================] - 31s 13ms/step - loss: 0.5464 - acc: 0.7661 - val_loss: 0.2948 - val_acc: 1.0000\n",
      "Epoch 8/10\n",
      "2467/2467 [==============================] - 35s 14ms/step - loss: 0.5457 - acc: 0.7661 - val_loss: 0.2753 - val_acc: 1.0000\n",
      "Epoch 9/10\n",
      "2467/2467 [==============================] - 32s 13ms/step - loss: 0.5494 - acc: 0.7661 - val_loss: 0.2332 - val_acc: 1.0000\n",
      "Epoch 10/10\n",
      "2467/2467 [==============================] - 33s 13ms/step - loss: 0.5475 - acc: 0.7661 - val_loss: 0.2886 - val_acc: 1.0000\n"
     ]
    },
    {
     "data": {
      "text/plain": [
       "<keras.callbacks.History at 0x1a49463048>"
      ]
     },
     "execution_count": 95,
     "metadata": {},
     "output_type": "execute_result"
    }
   ],
   "source": [
    "model.fit(x_train, y_train_f, batch_size=32, epochs=10, validation_split=0.1, verbose=1)"
   ]
  },
  {
   "cell_type": "markdown",
   "metadata": {},
   "source": [
    "# Testing"
   ]
  },
  {
   "cell_type": "code",
   "execution_count": 107,
   "metadata": {},
   "outputs": [],
   "source": [
    "def sentiments(text):\n",
    "    \n",
    "    x_test = pad_sequences(tokenizer.texts_to_sequences([text]), maxlen=256)\n",
    "    score = model.predict([x_test])[0]\n",
    "    \n",
    "    final = \"Positive = %f ,negative = %f\" % (score[1], score[0])\n",
    "    return print(final)"
   ]
  },
  {
   "cell_type": "code",
   "execution_count": 108,
   "metadata": {},
   "outputs": [
    {
     "name": "stdout",
     "output_type": "stream",
     "text": [
      "Positive = 0.746720 ,negative = 0.253280\n"
     ]
    }
   ],
   "source": []
  },
  {
   "cell_type": "code",
   "execution_count": 98,
   "metadata": {},
   "outputs": [],
   "source": [
    "model.save(\"twitter_model_trained.h5\")"
   ]
  },
  {
   "cell_type": "code",
   "execution_count": null,
   "metadata": {},
   "outputs": [],
   "source": []
  }
 ],
 "metadata": {
  "kernelspec": {
   "display_name": "Python 3",
   "language": "python",
   "name": "python3"
  },
  "language_info": {
   "codemirror_mode": {
    "name": "ipython",
    "version": 3
   },
   "file_extension": ".py",
   "mimetype": "text/x-python",
   "name": "python",
   "nbconvert_exporter": "python",
   "pygments_lexer": "ipython3",
   "version": "3.7.1"
  }
 },
 "nbformat": 4,
 "nbformat_minor": 1
}
