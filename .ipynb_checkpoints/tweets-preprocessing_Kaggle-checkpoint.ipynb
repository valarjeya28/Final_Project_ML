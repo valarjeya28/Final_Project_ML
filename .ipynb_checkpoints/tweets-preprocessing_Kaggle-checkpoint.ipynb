{
 "cells": [
  {
   "cell_type": "code",
   "execution_count": 1,
   "metadata": {},
   "outputs": [
    {
     "name": "stderr",
     "output_type": "stream",
     "text": [
      "Using TensorFlow backend.\n"
     ]
    }
   ],
   "source": [
    "import pandas as pd\n",
    "import numpy as np\n",
    "\n",
    "import nltk\n",
    "from nltk.corpus import stopwords\n",
    "\n",
    "import re\n",
    "\n",
    "from sklearn.model_selection import train_test_split\n",
    "\n",
    "import gensim\n",
    "\n",
    "from keras.preprocessing.text import Tokenizer\n",
    "from keras.preprocessing.sequence import pad_sequences\n",
    "\n",
    "from keras.models import Sequential\n",
    "from keras.layers import Activation, Dense, Dropout, LSTM, Embedding\n",
    "from keras.utils import to_categorical"
   ]
  },
  {
   "cell_type": "code",
   "execution_count": 3,
   "metadata": {},
   "outputs": [],
   "source": [
    "data = pd.read_csv(\"Resources/CL_data/train_K.tsv\", sep=\"\\t\")"
   ]
  },
  {
   "cell_type": "code",
   "execution_count": 4,
   "metadata": {},
   "outputs": [
    {
     "data": {
      "text/html": [
       "<div>\n",
       "<style scoped>\n",
       "    .dataframe tbody tr th:only-of-type {\n",
       "        vertical-align: middle;\n",
       "    }\n",
       "\n",
       "    .dataframe tbody tr th {\n",
       "        vertical-align: top;\n",
       "    }\n",
       "\n",
       "    .dataframe thead th {\n",
       "        text-align: right;\n",
       "    }\n",
       "</style>\n",
       "<table border=\"1\" class=\"dataframe\">\n",
       "  <thead>\n",
       "    <tr style=\"text-align: right;\">\n",
       "      <th></th>\n",
       "      <th>id</th>\n",
       "      <th>tweet</th>\n",
       "      <th>label</th>\n",
       "    </tr>\n",
       "  </thead>\n",
       "  <tbody>\n",
       "    <tr>\n",
       "      <th>0</th>\n",
       "      <td>264183816548130816</td>\n",
       "      <td>Gas by my house hit $3.39!!!! I'm going to Cha...</td>\n",
       "      <td>1</td>\n",
       "    </tr>\n",
       "    <tr>\n",
       "      <th>1</th>\n",
       "      <td>264249301910310912</td>\n",
       "      <td>Iranian general says Israel's Iron Dome can't ...</td>\n",
       "      <td>-1</td>\n",
       "    </tr>\n",
       "    <tr>\n",
       "      <th>2</th>\n",
       "      <td>264105751826538497</td>\n",
       "      <td>with J Davlar 11th. Main rivals are team Polan...</td>\n",
       "      <td>1</td>\n",
       "    </tr>\n",
       "    <tr>\n",
       "      <th>3</th>\n",
       "      <td>264094586689953794</td>\n",
       "      <td>Talking about ACT's &amp;&amp; SAT's, deciding where I...</td>\n",
       "      <td>-1</td>\n",
       "    </tr>\n",
       "    <tr>\n",
       "      <th>4</th>\n",
       "      <td>254941790757601280</td>\n",
       "      <td>They may have a SuperBowl in Dallas, but Dalla...</td>\n",
       "      <td>-1</td>\n",
       "    </tr>\n",
       "    <tr>\n",
       "      <th>5</th>\n",
       "      <td>264169034155696130</td>\n",
       "      <td>Im bringing the monster load of candy tomorrow...</td>\n",
       "      <td>0</td>\n",
       "    </tr>\n",
       "    <tr>\n",
       "      <th>6</th>\n",
       "      <td>263192091700654080</td>\n",
       "      <td>Apple software, retail chiefs out in overhaul:...</td>\n",
       "      <td>0</td>\n",
       "    </tr>\n",
       "    <tr>\n",
       "      <th>7</th>\n",
       "      <td>263398998675693568</td>\n",
       "      <td>@oluoch @victor_otti @kunjand I just watched i...</td>\n",
       "      <td>1</td>\n",
       "    </tr>\n",
       "    <tr>\n",
       "      <th>8</th>\n",
       "      <td>260200142420992000</td>\n",
       "      <td>#Livewire Nadal confirmed for Mexican Open in ...</td>\n",
       "      <td>0</td>\n",
       "    </tr>\n",
       "    <tr>\n",
       "      <th>9</th>\n",
       "      <td>264087629237202944</td>\n",
       "      <td>@MsSheLahY I didnt want to just pop up... but ...</td>\n",
       "      <td>1</td>\n",
       "    </tr>\n",
       "    <tr>\n",
       "      <th>10</th>\n",
       "      <td>250692636330049538</td>\n",
       "      <td>@Alyoup005 @addicted2haley hmmmm  November is ...</td>\n",
       "      <td>0</td>\n",
       "    </tr>\n",
       "    <tr>\n",
       "      <th>11</th>\n",
       "      <td>263304719471087617</td>\n",
       "      <td>#Iran US delisting MKO from global terrorists ...</td>\n",
       "      <td>0</td>\n",
       "    </tr>\n",
       "    <tr>\n",
       "      <th>12</th>\n",
       "      <td>263956867787673600</td>\n",
       "      <td>Good Morning Becky ! Thursday is going to be F...</td>\n",
       "      <td>1</td>\n",
       "    </tr>\n",
       "    <tr>\n",
       "      <th>13</th>\n",
       "      <td>263975113404342273</td>\n",
       "      <td>Expect light-moderate rains over E. Visayas; C...</td>\n",
       "      <td>0</td>\n",
       "    </tr>\n",
       "    <tr>\n",
       "      <th>14</th>\n",
       "      <td>257343699460173824</td>\n",
       "      <td>One ticket left for the @49ers game tomorrow! ...</td>\n",
       "      <td>1</td>\n",
       "    </tr>\n",
       "    <tr>\n",
       "      <th>15</th>\n",
       "      <td>264125591337463808</td>\n",
       "      <td>AFC away fans on Saturday. All this stuff abou...</td>\n",
       "      <td>-1</td>\n",
       "    </tr>\n",
       "    <tr>\n",
       "      <th>16</th>\n",
       "      <td>264259830590603264</td>\n",
       "      <td>Why is it so hard to find the @TVGuideMagazine...</td>\n",
       "      <td>-1</td>\n",
       "    </tr>\n",
       "    <tr>\n",
       "      <th>17</th>\n",
       "      <td>264223934403211264</td>\n",
       "      <td>@TrevorJavier the heat game may cost alot more...</td>\n",
       "      <td>0</td>\n",
       "    </tr>\n",
       "    <tr>\n",
       "      <th>18</th>\n",
       "      <td>264041764460036096</td>\n",
       "      <td>Never start working on your dreams and goals t...</td>\n",
       "      <td>1</td>\n",
       "    </tr>\n",
       "    <tr>\n",
       "      <th>19</th>\n",
       "      <td>264102295392882689</td>\n",
       "      <td>@TheFFAddict I had Vick and Flacco, needed an ...</td>\n",
       "      <td>1</td>\n",
       "    </tr>\n",
       "  </tbody>\n",
       "</table>\n",
       "</div>"
      ],
      "text/plain": [
       "                    id                                              tweet  \\\n",
       "0   264183816548130816  Gas by my house hit $3.39!!!! I'm going to Cha...   \n",
       "1   264249301910310912  Iranian general says Israel's Iron Dome can't ...   \n",
       "2   264105751826538497  with J Davlar 11th. Main rivals are team Polan...   \n",
       "3   264094586689953794  Talking about ACT's && SAT's, deciding where I...   \n",
       "4   254941790757601280  They may have a SuperBowl in Dallas, but Dalla...   \n",
       "5   264169034155696130  Im bringing the monster load of candy tomorrow...   \n",
       "6   263192091700654080  Apple software, retail chiefs out in overhaul:...   \n",
       "7   263398998675693568  @oluoch @victor_otti @kunjand I just watched i...   \n",
       "8   260200142420992000  #Livewire Nadal confirmed for Mexican Open in ...   \n",
       "9   264087629237202944  @MsSheLahY I didnt want to just pop up... but ...   \n",
       "10  250692636330049538  @Alyoup005 @addicted2haley hmmmm  November is ...   \n",
       "11  263304719471087617  #Iran US delisting MKO from global terrorists ...   \n",
       "12  263956867787673600  Good Morning Becky ! Thursday is going to be F...   \n",
       "13  263975113404342273  Expect light-moderate rains over E. Visayas; C...   \n",
       "14  257343699460173824  One ticket left for the @49ers game tomorrow! ...   \n",
       "15  264125591337463808  AFC away fans on Saturday. All this stuff abou...   \n",
       "16  264259830590603264  Why is it so hard to find the @TVGuideMagazine...   \n",
       "17  264223934403211264  @TrevorJavier the heat game may cost alot more...   \n",
       "18  264041764460036096  Never start working on your dreams and goals t...   \n",
       "19  264102295392882689  @TheFFAddict I had Vick and Flacco, needed an ...   \n",
       "\n",
       "    label  \n",
       "0       1  \n",
       "1      -1  \n",
       "2       1  \n",
       "3      -1  \n",
       "4      -1  \n",
       "5       0  \n",
       "6       0  \n",
       "7       1  \n",
       "8       0  \n",
       "9       1  \n",
       "10      0  \n",
       "11      0  \n",
       "12      1  \n",
       "13      0  \n",
       "14      1  \n",
       "15     -1  \n",
       "16     -1  \n",
       "17      0  \n",
       "18      1  \n",
       "19      1  "
      ]
     },
     "execution_count": 4,
     "metadata": {},
     "output_type": "execute_result"
    }
   ],
   "source": [
    "data.head(20)"
   ]
  },
  {
   "cell_type": "code",
   "execution_count": 5,
   "metadata": {},
   "outputs": [
    {
     "data": {
      "text/plain": [
       "(7589, 3)"
      ]
     },
     "execution_count": 5,
     "metadata": {},
     "output_type": "execute_result"
    }
   ],
   "source": [
    "data.shape"
   ]
  },
  {
   "cell_type": "code",
   "execution_count": 6,
   "metadata": {},
   "outputs": [
    {
     "data": {
      "text/plain": [
       " 0    3691\n",
       " 1    2834\n",
       "-1    1064\n",
       "Name: label, dtype: int64"
      ]
     },
     "execution_count": 6,
     "metadata": {},
     "output_type": "execute_result"
    }
   ],
   "source": [
    "data[\"label\"].value_counts()"
   ]
  },
  {
   "cell_type": "markdown",
   "metadata": {},
   "source": [
    "## Cleaning the data"
   ]
  },
  {
   "cell_type": "code",
   "execution_count": 7,
   "metadata": {},
   "outputs": [],
   "source": [
    "# dropping id column\n",
    "\n",
    "data = data.drop(\"id\", axis=1)"
   ]
  },
  {
   "cell_type": "code",
   "execution_count": 8,
   "metadata": {},
   "outputs": [],
   "source": [
    "stopwords = stopwords.words('english')"
   ]
  },
  {
   "cell_type": "code",
   "execution_count": 9,
   "metadata": {},
   "outputs": [],
   "source": [
    "def tweet_cleaner(tweet):\n",
    "    tweet = re.sub(r\"@\\w*\", \" \", str(tweet).lower()).strip() #removing username\n",
    "    tweet = re.sub(r'https?://[A-Za-z0-9./]+', \" \", str(tweet).lower()).strip() #removing links\n",
    "    tweet = re.sub(r'[^a-zA-Z]', \" \", str(tweet).lower()).strip() #removing sp_char\n",
    "    tw = []\n",
    "    \n",
    "    for text in tweet.split():\n",
    "        if text not in stopwords:\n",
    "            tw.append(text)\n",
    "    \n",
    "    return \" \".join(tw)"
   ]
  },
  {
   "cell_type": "code",
   "execution_count": 10,
   "metadata": {},
   "outputs": [],
   "source": [
    "data.tweet = data.tweet.apply(lambda x: tweet_cleaner(x))"
   ]
  },
  {
   "cell_type": "markdown",
   "metadata": {},
   "source": [
    "### word2vec"
   ]
  },
  {
   "cell_type": "code",
   "execution_count": 11,
   "metadata": {},
   "outputs": [],
   "source": [
    "documents = [text.split() for text in data.tweet]"
   ]
  },
  {
   "cell_type": "code",
   "execution_count": 12,
   "metadata": {},
   "outputs": [
    {
     "data": {
      "text/plain": [
       "7589"
      ]
     },
     "execution_count": 12,
     "metadata": {},
     "output_type": "execute_result"
    }
   ],
   "source": [
    "len(documents)"
   ]
  },
  {
   "cell_type": "code",
   "execution_count": 13,
   "metadata": {},
   "outputs": [],
   "source": [
    "w2v_model = gensim.models.word2vec.Word2Vec(size = 256, window = 7, min_count = 5)"
   ]
  },
  {
   "cell_type": "code",
   "execution_count": 14,
   "metadata": {},
   "outputs": [],
   "source": [
    "w2v_model.build_vocab(documents)"
   ]
  },
  {
   "cell_type": "code",
   "execution_count": 15,
   "metadata": {},
   "outputs": [
    {
     "data": {
      "text/plain": [
       "(1997973, 2751136)"
      ]
     },
     "execution_count": 15,
     "metadata": {},
     "output_type": "execute_result"
    }
   ],
   "source": [
    "w2v_model.train(documents, total_examples=len(documents), epochs=32)"
   ]
  },
  {
   "cell_type": "code",
   "execution_count": 16,
   "metadata": {},
   "outputs": [
    {
     "data": {
      "text/plain": [
       "array([-0.06739452,  0.05951492, -0.00569145,  0.00796658,  0.00845119,\n",
       "       -0.02411447, -0.0907554 , -0.08264431, -0.22629194, -0.00480192,\n",
       "        0.17816222, -0.0105978 , -0.10060362,  0.12056576, -0.07532194,\n",
       "       -0.09386944,  0.18856499,  0.10251729,  0.14567699,  0.04933336,\n",
       "        0.19712687, -0.14026083,  0.04449678,  0.09807208,  0.1154101 ,\n",
       "       -0.1918768 ,  0.01988804, -0.02788014,  0.02990635,  0.05029344,\n",
       "       -0.04509725,  0.13051184,  0.00924684,  0.04302948, -0.15820096,\n",
       "       -0.15352693,  0.02446632, -0.01765246, -0.09593899, -0.07071105,\n",
       "       -0.21922775, -0.04387697, -0.09720156, -0.0910012 , -0.1579234 ,\n",
       "        0.14327405,  0.09468402, -0.11714992, -0.07078959, -0.1449274 ,\n",
       "       -0.0346597 , -0.04150938, -0.04687542,  0.06827463, -0.09273379,\n",
       "       -0.18003286,  0.01957406, -0.25248638, -0.06319299,  0.13643973,\n",
       "       -0.12050783,  0.11652208,  0.05853823,  0.17713295, -0.16392364,\n",
       "       -0.05741556, -0.05238053, -0.02707237, -0.12682949, -0.03320783,\n",
       "        0.15213896,  0.03832877, -0.20542184,  0.09042276,  0.01788564,\n",
       "        0.01604859, -0.05649567,  0.08279189, -0.03811323, -0.00703107,\n",
       "       -0.09885236, -0.08711019, -0.16362599, -0.00501083, -0.07470363,\n",
       "       -0.07693899,  0.07321196, -0.07235543,  0.04354842, -0.04385228,\n",
       "       -0.01990859,  0.06450701,  0.05164768,  0.02985367, -0.26434255,\n",
       "       -0.00650594, -0.08131052, -0.11904617,  0.07166261,  0.09960716,\n",
       "        0.0508242 ,  0.13366996,  0.09990963,  0.05317811, -0.01540097,\n",
       "        0.04177513, -0.02711791,  0.18176249,  0.11479497,  0.10138637,\n",
       "       -0.23803881, -0.03061446, -0.05781876, -0.0239629 ,  0.03225501,\n",
       "       -0.01245959,  0.07719251, -0.07097155, -0.03560682,  0.07384372,\n",
       "        0.2166471 ,  0.07141812, -0.04910696,  0.19822821, -0.02070684,\n",
       "       -0.03978356,  0.11862411,  0.16660152,  0.06096724, -0.07275925,\n",
       "        0.09888319,  0.02487878, -0.04920085, -0.00061968,  0.03764873,\n",
       "       -0.10436759, -0.08844229,  0.03617176, -0.02766819, -0.02098817,\n",
       "        0.00082589, -0.04142458, -0.04403028, -0.16087559, -0.15988012,\n",
       "        0.0746543 , -0.01016078, -0.24330768, -0.1488293 , -0.13403432,\n",
       "        0.02032786,  0.07845198,  0.03191706, -0.09531759,  0.10699333,\n",
       "        0.01705527,  0.3107798 , -0.09835254,  0.16660891,  0.01923891,\n",
       "       -0.12127692, -0.11166936, -0.13406871, -0.02397814,  0.08662081,\n",
       "        0.01389451,  0.08709966,  0.04194291, -0.11645135,  0.10906396,\n",
       "        0.10803139,  0.16315861, -0.22271477,  0.19006898,  0.02994787,\n",
       "       -0.03547224, -0.16556852, -0.05022969,  0.0541519 ,  0.06388208,\n",
       "        0.09410436, -0.20268416, -0.01143725,  0.04886311, -0.00587546,\n",
       "        0.17252378,  0.21926141, -0.04906881, -0.02188556, -0.37651712,\n",
       "        0.06769984,  0.02832645, -0.14597394,  0.16934676,  0.11315249,\n",
       "        0.07028411, -0.04602344, -0.10561085,  0.15413702, -0.03548785,\n",
       "       -0.10822175,  0.08536455, -0.06709252, -0.22455871, -0.12044667,\n",
       "        0.00224751,  0.17593963, -0.05166665,  0.21786338,  0.00896594,\n",
       "        0.02371759,  0.17577192,  0.04757522,  0.08613209, -0.09814666,\n",
       "        0.22385243, -0.0905081 , -0.08159149, -0.02468992, -0.17679214,\n",
       "        0.24279295,  0.08222386,  0.12935756,  0.0321422 , -0.01327408,\n",
       "        0.15510416, -0.18945548, -0.04043742,  0.10920921, -0.04243504,\n",
       "        0.02097517,  0.2016069 , -0.11093227, -0.04967014, -0.12153044,\n",
       "       -0.00875079, -0.24774185, -0.06847616, -0.1298488 ,  0.00649289,\n",
       "        0.18485194,  0.03838358, -0.04917081, -0.00328171,  0.11024777,\n",
       "        0.10410872, -0.0044661 ,  0.09214916,  0.03705071,  0.07781222,\n",
       "        0.03192779,  0.0766042 ,  0.17642379,  0.03069528,  0.02611259,\n",
       "        0.06706145], dtype=float32)"
      ]
     },
     "execution_count": 16,
     "metadata": {},
     "output_type": "execute_result"
    }
   ],
   "source": [
    "w2v_model.wv[\"books\"]"
   ]
  },
  {
   "cell_type": "markdown",
   "metadata": {},
   "source": [
    "### Converting tweets to vectors"
   ]
  },
  {
   "cell_type": "code",
   "execution_count": 17,
   "metadata": {},
   "outputs": [],
   "source": [
    "tokenizer = Tokenizer()\n",
    "tokenizer.fit_on_texts(data.tweet)"
   ]
  },
  {
   "cell_type": "code",
   "execution_count": 18,
   "metadata": {},
   "outputs": [
    {
     "data": {
      "text/plain": [
       "14849"
      ]
     },
     "execution_count": 18,
     "metadata": {},
     "output_type": "execute_result"
    }
   ],
   "source": [
    "len(tokenizer.word_index)"
   ]
  },
  {
   "cell_type": "code",
   "execution_count": 19,
   "metadata": {},
   "outputs": [],
   "source": [
    "x_train = pad_sequences(tokenizer.texts_to_sequences(data.tweet), maxlen=256, padding=\"post\", truncating=\"post\")"
   ]
  },
  {
   "cell_type": "code",
   "execution_count": 20,
   "metadata": {},
   "outputs": [
    {
     "data": {
      "text/plain": [
       "array([[ 2448,    95,   259, ...,     0,     0,     0],\n",
       "       [ 6518,  2183,   143, ...,     0,     0,     0],\n",
       "       [ 1003,  6520,     2, ...,     0,     0,     0],\n",
       "       ...,\n",
       "       [  822,   181,  2377, ...,     0,     0,     0],\n",
       "       [   54,    15,  6516, ...,     0,     0,     0],\n",
       "       [14847,   432,   555, ...,     0,     0,     0]], dtype=int32)"
      ]
     },
     "execution_count": 20,
     "metadata": {},
     "output_type": "execute_result"
    }
   ],
   "source": [
    "x_train"
   ]
  },
  {
   "cell_type": "code",
   "execution_count": 21,
   "metadata": {},
   "outputs": [],
   "source": [
    "y_train = data.label\n",
    "\n",
    "y_train_f = []\n",
    "for x in y_train:\n",
    "    if x == 1:\n",
    "        y_train_f.append(1)\n",
    "    elif x == 0:\n",
    "        y_train_f.append(0)\n",
    "    elif x == -1:\n",
    "        y_train_f.append(2)\n",
    "        \n",
    "y_train_f = to_categorical(y_train_f)"
   ]
  },
  {
   "cell_type": "code",
   "execution_count": 22,
   "metadata": {},
   "outputs": [
    {
     "data": {
      "text/plain": [
       "array([[0., 1., 0.],\n",
       "       [0., 0., 1.],\n",
       "       [0., 1., 0.],\n",
       "       ...,\n",
       "       [1., 0., 0.],\n",
       "       [0., 1., 0.],\n",
       "       [0., 0., 1.]], dtype=float32)"
      ]
     },
     "execution_count": 22,
     "metadata": {},
     "output_type": "execute_result"
    }
   ],
   "source": [
    "y_train_f"
   ]
  },
  {
   "cell_type": "markdown",
   "metadata": {},
   "source": [
    "### Model"
   ]
  },
  {
   "cell_type": "code",
   "execution_count": 23,
   "metadata": {},
   "outputs": [],
   "source": [
    "embedding_matrix = np.zeros((14850,256))"
   ]
  },
  {
   "cell_type": "code",
   "execution_count": 24,
   "metadata": {},
   "outputs": [],
   "source": [
    "for word, i in tokenizer.word_index.items():\n",
    "    if word in w2v_model.wv:\n",
    "        embedding_matrix[i] = w2v_model.wv[word]"
   ]
  },
  {
   "cell_type": "code",
   "execution_count": 25,
   "metadata": {},
   "outputs": [
    {
     "name": "stderr",
     "output_type": "stream",
     "text": [
      "WARNING: Logging before flag parsing goes to stderr.\n",
      "W0727 11:47:31.614658 4636145088 deprecation_wrapper.py:119] From /Users/valarmathipukuraj/anaconda3/lib/python3.7/site-packages/keras/backend/tensorflow_backend.py:74: The name tf.get_default_graph is deprecated. Please use tf.compat.v1.get_default_graph instead.\n",
      "\n"
     ]
    }
   ],
   "source": [
    "embedding_layer = Embedding(14850, 256, weights=[embedding_matrix], input_length=256, trainable=False)"
   ]
  },
  {
   "cell_type": "code",
   "execution_count": 26,
   "metadata": {},
   "outputs": [
    {
     "name": "stderr",
     "output_type": "stream",
     "text": [
      "W0727 11:47:31.713744 4636145088 deprecation_wrapper.py:119] From /Users/valarmathipukuraj/anaconda3/lib/python3.7/site-packages/keras/backend/tensorflow_backend.py:517: The name tf.placeholder is deprecated. Please use tf.compat.v1.placeholder instead.\n",
      "\n",
      "W0727 11:47:31.719173 4636145088 deprecation_wrapper.py:119] From /Users/valarmathipukuraj/anaconda3/lib/python3.7/site-packages/keras/backend/tensorflow_backend.py:4138: The name tf.random_uniform is deprecated. Please use tf.random.uniform instead.\n",
      "\n",
      "W0727 11:47:31.760576 4636145088 deprecation_wrapper.py:119] From /Users/valarmathipukuraj/anaconda3/lib/python3.7/site-packages/keras/backend/tensorflow_backend.py:174: The name tf.get_default_session is deprecated. Please use tf.compat.v1.get_default_session instead.\n",
      "\n",
      "W0727 11:47:31.763450 4636145088 deprecation_wrapper.py:119] From /Users/valarmathipukuraj/anaconda3/lib/python3.7/site-packages/keras/backend/tensorflow_backend.py:181: The name tf.ConfigProto is deprecated. Please use tf.compat.v1.ConfigProto instead.\n",
      "\n",
      "W0727 11:47:31.945003 4636145088 deprecation.py:506] From /Users/valarmathipukuraj/anaconda3/lib/python3.7/site-packages/keras/backend/tensorflow_backend.py:3445: calling dropout (from tensorflow.python.ops.nn_ops) with keep_prob is deprecated and will be removed in a future version.\n",
      "Instructions for updating:\n",
      "Please use `rate` instead of `keep_prob`. Rate should be set to `rate = 1 - keep_prob`.\n"
     ]
    }
   ],
   "source": [
    "model = Sequential()\n",
    "model.add(embedding_layer)\n",
    "model.add(Dropout(0.25))\n",
    "model.add(Dense(200, activation=\"relu\"))\n",
    "model.add(Dropout(0.25))\n",
    "model.add(LSTM(100, dropout=0.2, recurrent_dropout=0.2))\n",
    "model.add(Dense(50, activation=\"relu\"))\n",
    "model.add(Dense(3, activation=\"softmax\"))"
   ]
  },
  {
   "cell_type": "code",
   "execution_count": 27,
   "metadata": {},
   "outputs": [
    {
     "name": "stdout",
     "output_type": "stream",
     "text": [
      "_________________________________________________________________\n",
      "Layer (type)                 Output Shape              Param #   \n",
      "=================================================================\n",
      "embedding_1 (Embedding)      (None, 256, 256)          3801600   \n",
      "_________________________________________________________________\n",
      "dropout_1 (Dropout)          (None, 256, 256)          0         \n",
      "_________________________________________________________________\n",
      "dense_1 (Dense)              (None, 256, 200)          51400     \n",
      "_________________________________________________________________\n",
      "dropout_2 (Dropout)          (None, 256, 200)          0         \n",
      "_________________________________________________________________\n",
      "lstm_1 (LSTM)                (None, 100)               120400    \n",
      "_________________________________________________________________\n",
      "dense_2 (Dense)              (None, 50)                5050      \n",
      "_________________________________________________________________\n",
      "dense_3 (Dense)              (None, 3)                 153       \n",
      "=================================================================\n",
      "Total params: 3,978,603\n",
      "Trainable params: 177,003\n",
      "Non-trainable params: 3,801,600\n",
      "_________________________________________________________________\n"
     ]
    }
   ],
   "source": [
    "model.summary()"
   ]
  },
  {
   "cell_type": "code",
   "execution_count": 28,
   "metadata": {},
   "outputs": [
    {
     "name": "stderr",
     "output_type": "stream",
     "text": [
      "W0727 11:47:32.555874 4636145088 deprecation_wrapper.py:119] From /Users/valarmathipukuraj/anaconda3/lib/python3.7/site-packages/keras/optimizers.py:790: The name tf.train.Optimizer is deprecated. Please use tf.compat.v1.train.Optimizer instead.\n",
      "\n"
     ]
    }
   ],
   "source": [
    "model.compile(loss='categorical_crossentropy',\n",
    "              optimizer=\"adam\",\n",
    "              metrics=['accuracy'])"
   ]
  },
  {
   "cell_type": "code",
   "execution_count": null,
   "metadata": {},
   "outputs": [
    {
     "name": "stderr",
     "output_type": "stream",
     "text": [
      "W0727 11:47:33.235931 4636145088 deprecation.py:323] From /Users/valarmathipukuraj/anaconda3/lib/python3.7/site-packages/tensorflow/python/ops/math_grad.py:1250: add_dispatch_support.<locals>.wrapper (from tensorflow.python.ops.array_ops) is deprecated and will be removed in a future version.\n",
      "Instructions for updating:\n",
      "Use tf.where in 2.0, which has the same broadcast rule as np.where\n"
     ]
    },
    {
     "name": "stdout",
     "output_type": "stream",
     "text": [
      "Train on 6830 samples, validate on 759 samples\n",
      "Epoch 1/4\n",
      "3744/6830 [===============>..............] - ETA: 54s - loss: 1.0090 - acc: 0.4746"
     ]
    }
   ],
   "source": [
    "model.fit(x_train, y_train_f, batch_size=32, epochs=4, validation_split=0.1, verbose=1)"
   ]
  },
  {
   "cell_type": "markdown",
   "metadata": {},
   "source": [
    "### Testing"
   ]
  },
  {
   "cell_type": "code",
   "execution_count": null,
   "metadata": {},
   "outputs": [],
   "source": [
    "def sentiment(text):\n",
    "    \n",
    "    x_test = pad_sequences(tokenizer.texts_to_sequences([text]), maxlen=256)\n",
    "    score = model.predict([x_test])[0]\n",
    "    \n",
    "    final = \"Positive = %f ,Negative = %f, Neutral = %f\" % (score[1], score[2], score[0])\n",
    "    return print(final)"
   ]
  },
  {
   "cell_type": "code",
   "execution_count": null,
   "metadata": {},
   "outputs": [],
   "source": [
    "sentiment(\"I like reading books.\")"
   ]
  },
  {
   "cell_type": "code",
   "execution_count": null,
   "metadata": {},
   "outputs": [],
   "source": []
  },
  {
   "cell_type": "code",
   "execution_count": null,
   "metadata": {},
   "outputs": [],
   "source": []
  }
 ],
 "metadata": {
  "kernelspec": {
   "display_name": "Python 3",
   "language": "python",
   "name": "python3"
  },
  "language_info": {
   "codemirror_mode": {
    "name": "ipython",
    "version": 3
   },
   "file_extension": ".py",
   "mimetype": "text/x-python",
   "name": "python",
   "nbconvert_exporter": "python",
   "pygments_lexer": "ipython3",
   "version": "3.7.1"
  }
 },
 "nbformat": 4,
 "nbformat_minor": 1
}
