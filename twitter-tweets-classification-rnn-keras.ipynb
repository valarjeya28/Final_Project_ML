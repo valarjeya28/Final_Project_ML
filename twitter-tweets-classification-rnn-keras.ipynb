{
 "cells": [
  {
   "cell_type": "code",
   "execution_count": 1,
   "metadata": {
    "_cell_guid": "6c53202d-5c34-4859-e7e9-8ef5c7068287",
    "_uuid": "717bb968c36b9325c7d4cae5724a3672e49ff243"
   },
   "outputs": [
    {
     "name": "stderr",
     "output_type": "stream",
     "text": [
      "Using TensorFlow backend.\n"
     ]
    }
   ],
   "source": [
    "import numpy as np # linear algebra\n",
    "import pandas as pd # data processing, CSV file I/O (e.g. pd.read_csv)\n",
    "\n",
    "from sklearn.feature_extraction.text import CountVectorizer\n",
    "from keras.preprocessing.text import Tokenizer\n",
    "from keras.preprocessing.sequence import pad_sequences\n",
    "from keras.preprocessing import text, sequence\n",
    "from keras.models import Sequential\n",
    "from keras.layers import Dense, Embedding, LSTM, SpatialDropout1D\n",
    "from keras.layers import Dense, Embedding, GlobalMaxPooling1D, CuDNNGRU, Dropout, BatchNormalization, Activation\n",
    "\n",
    "from sklearn.model_selection import train_test_split\n",
    "from keras.utils.np_utils import to_categorical\n",
    "import re"
   ]
  },
  {
   "cell_type": "code",
   "execution_count": 2,
   "metadata": {
    "_cell_guid": "89c8c923-c0bf-7b35-9ab8-e63f00b74e5a",
    "_uuid": "d2bc3bbd2ea3961c49e6673145a0a7226c160e58"
   },
   "outputs": [
    {
     "data": {
      "text/html": [
       "<div>\n",
       "<style scoped>\n",
       "    .dataframe tbody tr th:only-of-type {\n",
       "        vertical-align: middle;\n",
       "    }\n",
       "\n",
       "    .dataframe tbody tr th {\n",
       "        vertical-align: top;\n",
       "    }\n",
       "\n",
       "    .dataframe thead th {\n",
       "        text-align: right;\n",
       "    }\n",
       "</style>\n",
       "<table border=\"1\" class=\"dataframe\">\n",
       "  <thead>\n",
       "    <tr style=\"text-align: right;\">\n",
       "      <th></th>\n",
       "      <th>Tweet</th>\n",
       "      <th>Category</th>\n",
       "    </tr>\n",
       "  </thead>\n",
       "  <tbody>\n",
       "    <tr>\n",
       "      <th>0</th>\n",
       "      <td>IOS 9 App Transport Security. Mm need to check...</td>\n",
       "      <td>neutral</td>\n",
       "    </tr>\n",
       "    <tr>\n",
       "      <th>1</th>\n",
       "      <td>Mar if you have an iOS device, you should down...</td>\n",
       "      <td>neutral</td>\n",
       "    </tr>\n",
       "    <tr>\n",
       "      <th>2</th>\n",
       "      <td>@jimmie_vanagon my phone does not run on lates...</td>\n",
       "      <td>negative</td>\n",
       "    </tr>\n",
       "    <tr>\n",
       "      <th>3</th>\n",
       "      <td>Not sure how to start your publication on iOS?...</td>\n",
       "      <td>positive</td>\n",
       "    </tr>\n",
       "    <tr>\n",
       "      <th>4</th>\n",
       "      <td>Two Dollar Tuesday is here with Forklift 2, Qu...</td>\n",
       "      <td>neutral</td>\n",
       "    </tr>\n",
       "  </tbody>\n",
       "</table>\n",
       "</div>"
      ],
      "text/plain": [
       "                                               Tweet  Category\n",
       "0  IOS 9 App Transport Security. Mm need to check...   neutral\n",
       "1  Mar if you have an iOS device, you should down...   neutral\n",
       "2  @jimmie_vanagon my phone does not run on lates...  negative\n",
       "3  Not sure how to start your publication on iOS?...  positive\n",
       "4  Two Dollar Tuesday is here with Forklift 2, Qu...   neutral"
      ]
     },
     "execution_count": 2,
     "metadata": {},
     "output_type": "execute_result"
    }
   ],
   "source": [
    "data = pd.read_csv('train.csv')\n",
    "# Keeping only the neccessary columns\n",
    "data = data[['Tweet','Category']]\n",
    "data.head()"
   ]
  },
  {
   "cell_type": "code",
   "execution_count": 3,
   "metadata": {
    "_uuid": "5f5049ed46dc4643e4a2b8e7ad5746649f5ae5dd"
   },
   "outputs": [
    {
     "data": {
      "text/html": [
       "<div>\n",
       "<style scoped>\n",
       "    .dataframe tbody tr th:only-of-type {\n",
       "        vertical-align: middle;\n",
       "    }\n",
       "\n",
       "    .dataframe tbody tr th {\n",
       "        vertical-align: top;\n",
       "    }\n",
       "\n",
       "    .dataframe thead th {\n",
       "        text-align: right;\n",
       "    }\n",
       "</style>\n",
       "<table border=\"1\" class=\"dataframe\">\n",
       "  <thead>\n",
       "    <tr style=\"text-align: right;\">\n",
       "      <th></th>\n",
       "      <th>Tweet</th>\n",
       "      <th>Category</th>\n",
       "    </tr>\n",
       "  </thead>\n",
       "  <tbody>\n",
       "    <tr>\n",
       "      <th>0</th>\n",
       "      <td>IOS 9 App Transport Security. Mm need to check...</td>\n",
       "      <td>neutral</td>\n",
       "    </tr>\n",
       "    <tr>\n",
       "      <th>1</th>\n",
       "      <td>Mar if you have an iOS device, you should down...</td>\n",
       "      <td>neutral</td>\n",
       "    </tr>\n",
       "    <tr>\n",
       "      <th>2</th>\n",
       "      <td>@jimmie_vanagon my phone does not run on lates...</td>\n",
       "      <td>negative</td>\n",
       "    </tr>\n",
       "    <tr>\n",
       "      <th>3</th>\n",
       "      <td>Not sure how to start your publication on iOS?...</td>\n",
       "      <td>positive</td>\n",
       "    </tr>\n",
       "    <tr>\n",
       "      <th>4</th>\n",
       "      <td>Two Dollar Tuesday is here with Forklift 2, Qu...</td>\n",
       "      <td>neutral</td>\n",
       "    </tr>\n",
       "  </tbody>\n",
       "</table>\n",
       "</div>"
      ],
      "text/plain": [
       "                                               Tweet  Category\n",
       "0  IOS 9 App Transport Security. Mm need to check...   neutral\n",
       "1  Mar if you have an iOS device, you should down...   neutral\n",
       "2  @jimmie_vanagon my phone does not run on lates...  negative\n",
       "3  Not sure how to start your publication on iOS?...  positive\n",
       "4  Two Dollar Tuesday is here with Forklift 2, Qu...   neutral"
      ]
     },
     "execution_count": 3,
     "metadata": {},
     "output_type": "execute_result"
    }
   ],
   "source": [
    "data[:5]"
   ]
  },
  {
   "cell_type": "code",
   "execution_count": 4,
   "metadata": {
    "_uuid": "d0731137ce0796a4b8da50060e2e3561d0d4e516"
   },
   "outputs": [
    {
     "name": "stdout",
     "output_type": "stream",
     "text": [
      "<class 'pandas.core.frame.DataFrame'>\n",
      "RangeIndex: 5422 entries, 0 to 5421\n",
      "Data columns (total 2 columns):\n",
      "Tweet       5422 non-null object\n",
      "Category    5422 non-null object\n",
      "dtypes: object(2)\n",
      "memory usage: 84.8+ KB\n"
     ]
    }
   ],
   "source": [
    "data.info()"
   ]
  },
  {
   "cell_type": "code",
   "execution_count": 5,
   "metadata": {
    "_uuid": "ce8fd8ea74ca639893881b5cdf78a37bf91f45b2"
   },
   "outputs": [
    {
     "data": {
      "text/html": [
       "<div>\n",
       "<style scoped>\n",
       "    .dataframe tbody tr th:only-of-type {\n",
       "        vertical-align: middle;\n",
       "    }\n",
       "\n",
       "    .dataframe tbody tr th {\n",
       "        vertical-align: top;\n",
       "    }\n",
       "\n",
       "    .dataframe thead th {\n",
       "        text-align: right;\n",
       "    }\n",
       "</style>\n",
       "<table border=\"1\" class=\"dataframe\">\n",
       "  <thead>\n",
       "    <tr style=\"text-align: right;\">\n",
       "      <th></th>\n",
       "      <th>Tweet</th>\n",
       "      <th>Category</th>\n",
       "    </tr>\n",
       "  </thead>\n",
       "  <tbody>\n",
       "    <tr>\n",
       "      <th>count</th>\n",
       "      <td>5422</td>\n",
       "      <td>5422</td>\n",
       "    </tr>\n",
       "    <tr>\n",
       "      <th>unique</th>\n",
       "      <td>5417</td>\n",
       "      <td>4</td>\n",
       "    </tr>\n",
       "    <tr>\n",
       "      <th>top</th>\n",
       "      <td>@pperrin @nellesapelle Very wise. Hard to see ...</td>\n",
       "      <td>positive</td>\n",
       "    </tr>\n",
       "    <tr>\n",
       "      <th>freq</th>\n",
       "      <td>2</td>\n",
       "      <td>2599</td>\n",
       "    </tr>\n",
       "  </tbody>\n",
       "</table>\n",
       "</div>"
      ],
      "text/plain": [
       "                                                    Tweet  Category\n",
       "count                                                5422      5422\n",
       "unique                                               5417         4\n",
       "top     @pperrin @nellesapelle Very wise. Hard to see ...  positive\n",
       "freq                                                    2      2599"
      ]
     },
     "execution_count": 5,
     "metadata": {},
     "output_type": "execute_result"
    }
   ],
   "source": [
    "data.describe()"
   ]
  },
  {
   "cell_type": "code",
   "execution_count": 6,
   "metadata": {
    "_uuid": "ee5a3539f1678a142c79eeb42e3c25e706362dec"
   },
   "outputs": [
    {
     "data": {
      "text/plain": [
       "Index(['Tweet', 'Category'], dtype='object')"
      ]
     },
     "execution_count": 6,
     "metadata": {},
     "output_type": "execute_result"
    }
   ],
   "source": [
    "data.columns"
   ]
  },
  {
   "cell_type": "code",
   "execution_count": 7,
   "metadata": {
    "_uuid": "0f65e6460821f505950c2c2a882c8307c9fe7d95"
   },
   "outputs": [
    {
     "data": {
      "text/plain": [
       "Tweet       object\n",
       "Category    object\n",
       "dtype: object"
      ]
     },
     "execution_count": 7,
     "metadata": {},
     "output_type": "execute_result"
    }
   ],
   "source": [
    "data.dtypes"
   ]
  },
  {
   "cell_type": "code",
   "execution_count": 8,
   "metadata": {
    "_uuid": "aa300ed1eeecccad9f5d35b84062c4d2a1c79afc"
   },
   "outputs": [
    {
     "data": {
      "text/plain": [
       "Tweet       0\n",
       "Category    0\n",
       "dtype: int64"
      ]
     },
     "execution_count": 8,
     "metadata": {},
     "output_type": "execute_result"
    }
   ],
   "source": [
    "data.isnull().sum()"
   ]
  },
  {
   "cell_type": "code",
   "execution_count": 9,
   "metadata": {
    "_uuid": "ff4c10166d405f530a1783e8b58982b71ecf9c99"
   },
   "outputs": [
    {
     "name": "stdout",
     "output_type": "stream",
     "text": [
      "10844\n"
     ]
    },
    {
     "data": {
      "text/html": [
       "<div>\n",
       "<style scoped>\n",
       "    .dataframe tbody tr th:only-of-type {\n",
       "        vertical-align: middle;\n",
       "    }\n",
       "\n",
       "    .dataframe tbody tr th {\n",
       "        vertical-align: top;\n",
       "    }\n",
       "\n",
       "    .dataframe thead th {\n",
       "        text-align: right;\n",
       "    }\n",
       "</style>\n",
       "<table border=\"1\" class=\"dataframe\">\n",
       "  <thead>\n",
       "    <tr style=\"text-align: right;\">\n",
       "      <th></th>\n",
       "      <th>Tweet</th>\n",
       "      <th>Category</th>\n",
       "    </tr>\n",
       "  </thead>\n",
       "  <tbody>\n",
       "    <tr>\n",
       "      <th>0</th>\n",
       "      <td>IOS 9 App Transport Security. Mm need to check...</td>\n",
       "      <td>neutral</td>\n",
       "    </tr>\n",
       "    <tr>\n",
       "      <th>1</th>\n",
       "      <td>Mar if you have an iOS device, you should down...</td>\n",
       "      <td>neutral</td>\n",
       "    </tr>\n",
       "    <tr>\n",
       "      <th>2</th>\n",
       "      <td>@jimmie_vanagon my phone does not run on lates...</td>\n",
       "      <td>negative</td>\n",
       "    </tr>\n",
       "    <tr>\n",
       "      <th>3</th>\n",
       "      <td>Not sure how to start your publication on iOS?...</td>\n",
       "      <td>positive</td>\n",
       "    </tr>\n",
       "    <tr>\n",
       "      <th>4</th>\n",
       "      <td>Two Dollar Tuesday is here with Forklift 2, Qu...</td>\n",
       "      <td>neutral</td>\n",
       "    </tr>\n",
       "  </tbody>\n",
       "</table>\n",
       "</div>"
      ],
      "text/plain": [
       "                                               Tweet  Category\n",
       "0  IOS 9 App Transport Security. Mm need to check...   neutral\n",
       "1  Mar if you have an iOS device, you should down...   neutral\n",
       "2  @jimmie_vanagon my phone does not run on lates...  negative\n",
       "3  Not sure how to start your publication on iOS?...  positive\n",
       "4  Two Dollar Tuesday is here with Forklift 2, Qu...   neutral"
      ]
     },
     "execution_count": 9,
     "metadata": {},
     "output_type": "execute_result"
    }
   ],
   "source": [
    "print(data.size)\n",
    "data[:5]"
   ]
  },
  {
   "cell_type": "code",
   "execution_count": 10,
   "metadata": {
    "_cell_guid": "43632d2d-6160-12ce-48b0-e5eb1c207076",
    "_uuid": "d0f8b4542106a279f7398db7285ae5e370b2e813"
   },
   "outputs": [
    {
     "name": "stdout",
     "output_type": "stream",
     "text": [
      "                                               Tweet  Category\n",
      "2  @jimmie_vanagon my phone does not run on lates...  negative\n",
      "3  Not sure how to start your publication on iOS?...  positive\n",
      "                                               Tweet  Category\n",
      "2  @jimmie_vanagon my phone does not run on lates...  negative\n",
      "3  not sure how to start your publication on ios?...  positive\n",
      "                                               Tweet  Category\n",
      "2  jimmie_vanagon my phone does not run on latest...  negative\n",
      "3  not sure how to start your publication on ios ...  positive\n",
      "Tweet       object\n",
      "Category    object\n",
      "dtype: object\n",
      "5198\n",
      "1738\n",
      "6938\n",
      "[[17, 240, 282, 31, 303, 5, 1265, 236, 293, 13, 979, 10, 703, 1, 334, 22, 34, 14, 24], [31, 290, 108, 2, 98, 54, 5, 236, 140, 12, 159, 15, 540, 39, 905, 66, 6, 46], [470, 10, 236, 1837, 335, 20, 11, 156, 241, 115, 470, 1838, 8, 654, 42, 291, 10, 1489, 303], [66, 1839, 15, 830, 10, 236, 6, 704, 1490, 7, 1, 70, 6, 390, 130, 9, 59, 11, 151, 2, 82], [88, 4, 1491, 11, 64, 2, 190, 5, 151, 366, 15, 160, 151, 65, 2, 980, 15, 236, 5, 4, 161, 980, 15, 70]]\n",
      "[[   0    0    0    0    0    0    0    0    0    0    0    0    0   17\n",
      "   240  282   31  303    5 1265  236  293   13  979   10  703    1  334\n",
      "    22   34   14   24]\n",
      " [   0    0    0    0    0    0    0    0    0    0    0    0    0    0\n",
      "    31  290  108    2   98   54    5  236  140   12  159   15  540   39\n",
      "   905   66    6   46]\n",
      " [   0    0    0    0    0    0    0    0    0    0    0    0    0  470\n",
      "    10  236 1837  335   20   11  156  241  115  470 1838    8  654   42\n",
      "   291   10 1489  303]\n",
      " [   0    0    0    0    0    0    0    0    0    0    0   66 1839   15\n",
      "   830   10  236    6  704 1490    7    1   70    6  390  130    9   59\n",
      "    11  151    2   82]\n",
      " [   0    0    0    0    0    0    0    0   88    4 1491   11   64    2\n",
      "   190    5  151  366   15  160  151   65    2  980   15  236    5    4\n",
      "   161  980   15   70]]\n"
     ]
    }
   ],
   "source": [
    "# it will remove all Neutral values from data\n",
    "data = data[data.Category != \"neutral\"]\n",
    "print(data[:2])\n",
    "\n",
    "# it will remove all the eg:-  RT @NancyLeeGrahn:  \n",
    "data['Tweet'] = data['Tweet'].apply(lambda x: x.lower())\n",
    "print(data[:2])\n",
    "#print(data)\n",
    "data['Tweet'] = data['Tweet'].apply((lambda x: re.sub('[^a-zA-z0-9\\s]','',x)))\n",
    "print(data[:2])\n",
    "print(data.dtypes)\n",
    "print(data[ data['Category'] == 'positive'].size)\n",
    "print(data[ data['Category'] == 'negative'].size)\n",
    "print(data[data['Category']!='neutral'].size)\n",
    "\n",
    "for idx,row in data.iterrows():\n",
    "    #print(idx,row)\n",
    "    row[0] = row[0].replace('rt',' ')\n",
    "    \n",
    "max_fatures = 2000\n",
    "tokenizer = Tokenizer(num_words=max_fatures, split=' ')\n",
    "tokenizer.fit_on_texts(data['Tweet'].values)\n",
    "X = tokenizer.texts_to_sequences(data['Tweet'].values)\n",
    "print(X[:5])\n",
    "\n",
    "\n",
    "# pad: to make all input of same length\n",
    "X = pad_sequences(X)\n",
    "print(X[:5])"
   ]
  },
  {
   "cell_type": "code",
   "execution_count": 11,
   "metadata": {
    "_cell_guid": "1ba3cf60-a83c-9c21-05e0-b14303027e93",
    "_uuid": "05cb9ef0ec9e0a4067e3ab7c1bda7b2c1211feda"
   },
   "outputs": [
    {
     "name": "stderr",
     "output_type": "stream",
     "text": [
      "WARNING: Logging before flag parsing goes to stderr.\n",
      "W0729 19:58:17.789808 4548240832 deprecation_wrapper.py:119] From /Users/valarmathipukuraj/anaconda3/lib/python3.7/site-packages/keras/backend/tensorflow_backend.py:74: The name tf.get_default_graph is deprecated. Please use tf.compat.v1.get_default_graph instead.\n",
      "\n",
      "W0729 19:58:17.813063 4548240832 deprecation_wrapper.py:119] From /Users/valarmathipukuraj/anaconda3/lib/python3.7/site-packages/keras/backend/tensorflow_backend.py:517: The name tf.placeholder is deprecated. Please use tf.compat.v1.placeholder instead.\n",
      "\n",
      "W0729 19:58:17.819224 4548240832 deprecation_wrapper.py:119] From /Users/valarmathipukuraj/anaconda3/lib/python3.7/site-packages/keras/backend/tensorflow_backend.py:4138: The name tf.random_uniform is deprecated. Please use tf.random.uniform instead.\n",
      "\n",
      "W0729 19:58:17.896563 4548240832 deprecation_wrapper.py:119] From /Users/valarmathipukuraj/anaconda3/lib/python3.7/site-packages/keras/backend/tensorflow_backend.py:133: The name tf.placeholder_with_default is deprecated. Please use tf.compat.v1.placeholder_with_default instead.\n",
      "\n",
      "W0729 19:58:17.910857 4548240832 deprecation.py:506] From /Users/valarmathipukuraj/anaconda3/lib/python3.7/site-packages/keras/backend/tensorflow_backend.py:3445: calling dropout (from tensorflow.python.ops.nn_ops) with keep_prob is deprecated and will be removed in a future version.\n",
      "Instructions for updating:\n",
      "Please use `rate` instead of `keep_prob`. Rate should be set to `rate = 1 - keep_prob`.\n",
      "W0729 19:58:18.343205 4548240832 deprecation_wrapper.py:119] From /Users/valarmathipukuraj/anaconda3/lib/python3.7/site-packages/keras/optimizers.py:790: The name tf.train.Optimizer is deprecated. Please use tf.compat.v1.train.Optimizer instead.\n",
      "\n",
      "W0729 19:58:18.373465 4548240832 deprecation_wrapper.py:119] From /Users/valarmathipukuraj/anaconda3/lib/python3.7/site-packages/keras/backend/tensorflow_backend.py:3295: The name tf.log is deprecated. Please use tf.math.log instead.\n",
      "\n"
     ]
    },
    {
     "name": "stdout",
     "output_type": "stream",
     "text": [
      "Time to compile model: 0.06422305107116699\n",
      "_________________________________________________________________\n",
      "Layer (type)                 Output Shape              Param #   \n",
      "=================================================================\n",
      "embedding_1 (Embedding)      (None, 32, 128)           256000    \n",
      "_________________________________________________________________\n",
      "spatial_dropout1d_1 (Spatial (None, 32, 128)           0         \n",
      "_________________________________________________________________\n",
      "lstm_1 (LSTM)                (None, 196)               254800    \n",
      "_________________________________________________________________\n",
      "dense_1 (Dense)              (None, 3)                 591       \n",
      "=================================================================\n",
      "Total params: 511,391\n",
      "Trainable params: 511,391\n",
      "Non-trainable params: 0\n",
      "_________________________________________________________________\n",
      "None\n"
     ]
    }
   ],
   "source": [
    "# Keras offers an Embedding layer that can be used for neural networks on text data.\n",
    "'''\n",
    "source from: machinelearningmastery.com\n",
    "The Embedding layer is defined as the first hidden layer of a network. It must specify 3 arguments:\n",
    "\n",
    "It must specify 3 arguments:\n",
    "\n",
    "input_dim: This is the size of the vocabulary in the text data. For example, if your data is integer encoded to values between 0-10, then the size of the vocabulary would be 11 words.\n",
    "output_dim: This is the size of the vector space in which words will be embedded. It defines the size of the output vectors from this layer for each word. For example, it could be 32 or 100 or even larger. Test different values for your problem.\n",
    "input_length: This is the length of input sequences, as you would define for any input layer of a Keras model. For example, if all of your input documents are comprised of 1000 words, this would be 1000.\n",
    "For example, below we define an Embedding layer with a vocabulary of 200 (e.g. integer encoded words from 0 to 199, inclusive), a vector space of 32 dimensions in which words will be embedded, and input documents that have 50 words each.\n",
    "\n",
    "\n",
    "e = Embedding(200, 32, input_length=50)\n",
    "1\n",
    "e = Embedding(200, 32, input_length=50)\n",
    "\n",
    "\n",
    "'''\n",
    "embed_dim = 128\n",
    "lstm_out = 196\n",
    "import time\n",
    "model = Sequential()\n",
    "model.add(Embedding(max_fatures, embed_dim,input_length = X.shape[1]))\n",
    "model.add(SpatialDropout1D(0.4))\n",
    "model.add(LSTM(lstm_out, dropout=0.2, recurrent_dropout=0.2))\n",
    "model.add(Dense(3,activation='softmax'))\n",
    "start=time.time()\n",
    "model.compile(loss = 'categorical_crossentropy', optimizer='adam',metrics = ['accuracy'])\n",
    "print(\"Time to compile model:\",time.time()-start)\n",
    "print(model.summary())"
   ]
  },
  {
   "cell_type": "code",
   "execution_count": 12,
   "metadata": {
    "_cell_guid": "b35748b8-2353-3db2-e571-5fd22bb93eb0",
    "_uuid": "a380bbfae2d098d407b138fc44622c9913a31c07"
   },
   "outputs": [
    {
     "name": "stdout",
     "output_type": "stream",
     "text": [
      "['negative' 'positive' 'positive' ... 'negative' 'negative' 'positive']\n",
      "[[0 1 0]\n",
      " [0 0 1]\n",
      " [0 0 1]\n",
      " ...\n",
      " [0 1 0]\n",
      " [0 1 0]\n",
      " [0 0 1]]\n",
      "(2948, 32) (2948, 3)\n",
      "(521, 32) (521, 3)\n"
     ]
    }
   ],
   "source": [
    "print((data['Category']).values)\n",
    "Y = pd.get_dummies(data['Category']).values\n",
    "print(Y)\n",
    "X_train, X_test, Y_train, Y_test = train_test_split(X,Y, test_size = 0.15, random_state = 42)\n",
    "print(X_train.shape,Y_train.shape)\n",
    "print(X_test.shape,Y_test.shape)"
   ]
  },
  {
   "cell_type": "code",
   "execution_count": 13,
   "metadata": {
    "_cell_guid": "d5e499ac-2eba-6ff7-8d9a-ff65eb04099b",
    "_uuid": "d0b239912cf67294a9f5af6883bb159c44318fc7"
   },
   "outputs": [
    {
     "name": "stderr",
     "output_type": "stream",
     "text": [
      "W0729 19:58:30.677573 4548240832 deprecation.py:323] From /Users/valarmathipukuraj/anaconda3/lib/python3.7/site-packages/tensorflow/python/ops/math_grad.py:1250: add_dispatch_support.<locals>.wrapper (from tensorflow.python.ops.array_ops) is deprecated and will be removed in a future version.\n",
      "Instructions for updating:\n",
      "Use tf.where in 2.0, which has the same broadcast rule as np.where\n"
     ]
    },
    {
     "name": "stdout",
     "output_type": "stream",
     "text": [
      "Train on 2918 samples, validate on 30 samples\n",
      "Epoch 1/50\n",
      "2918/2918 [==============================] - 6s 2ms/step - loss: 0.6885 - acc: 0.7416 - val_loss: 0.4988 - val_acc: 0.8000\n",
      "Epoch 2/50\n",
      "2918/2918 [==============================] - 5s 2ms/step - loss: 0.5375 - acc: 0.7543 - val_loss: 0.4588 - val_acc: 0.8000\n",
      "Epoch 3/50\n",
      "2918/2918 [==============================] - 5s 2ms/step - loss: 0.4287 - acc: 0.8033 - val_loss: 0.3552 - val_acc: 0.8333\n",
      "Epoch 4/50\n",
      "2918/2918 [==============================] - 5s 2ms/step - loss: 0.3073 - acc: 0.8715 - val_loss: 0.3439 - val_acc: 0.9333\n",
      "Epoch 5/50\n",
      "2918/2918 [==============================] - 5s 2ms/step - loss: 0.2530 - acc: 0.8965 - val_loss: 0.3774 - val_acc: 0.9333\n",
      "Epoch 6/50\n",
      "2918/2918 [==============================] - 5s 2ms/step - loss: 0.2034 - acc: 0.9239 - val_loss: 0.4595 - val_acc: 0.8333\n",
      "Epoch 7/50\n",
      "2918/2918 [==============================] - 5s 2ms/step - loss: 0.1744 - acc: 0.9315 - val_loss: 0.4348 - val_acc: 0.8667\n",
      "Epoch 8/50\n",
      "2918/2918 [==============================] - 5s 2ms/step - loss: 0.1410 - acc: 0.9459 - val_loss: 0.4962 - val_acc: 0.8667\n",
      "Epoch 9/50\n",
      "2918/2918 [==============================] - 5s 2ms/step - loss: 0.1245 - acc: 0.9524 - val_loss: 0.6433 - val_acc: 0.8333\n",
      "Epoch 10/50\n",
      "2918/2918 [==============================] - 6s 2ms/step - loss: 0.0978 - acc: 0.9661 - val_loss: 0.6366 - val_acc: 0.8333\n",
      "Epoch 11/50\n",
      "2918/2918 [==============================] - 6s 2ms/step - loss: 0.0850 - acc: 0.9733 - val_loss: 0.5693 - val_acc: 0.8333\n",
      "Epoch 12/50\n",
      "2918/2918 [==============================] - 6s 2ms/step - loss: 0.0719 - acc: 0.9740 - val_loss: 0.7878 - val_acc: 0.8333\n",
      "Epoch 13/50\n",
      "2918/2918 [==============================] - 6s 2ms/step - loss: 0.0636 - acc: 0.9777 - val_loss: 0.7707 - val_acc: 0.8333\n",
      "Epoch 14/50\n",
      "2918/2918 [==============================] - 6s 2ms/step - loss: 0.0423 - acc: 0.9836 - val_loss: 0.7256 - val_acc: 0.8333\n",
      "Epoch 15/50\n",
      "2918/2918 [==============================] - 6s 2ms/step - loss: 0.0435 - acc: 0.9856 - val_loss: 0.8839 - val_acc: 0.8000\n",
      "Epoch 16/50\n",
      "2918/2918 [==============================] - 6s 2ms/step - loss: 0.0445 - acc: 0.9866 - val_loss: 0.8638 - val_acc: 0.8000\n",
      "Epoch 17/50\n",
      "2918/2918 [==============================] - 6s 2ms/step - loss: 0.0370 - acc: 0.9880 - val_loss: 0.8873 - val_acc: 0.8000\n",
      "Epoch 18/50\n",
      "2918/2918 [==============================] - 6s 2ms/step - loss: 0.0324 - acc: 0.9870 - val_loss: 0.6989 - val_acc: 0.8000\n",
      "Epoch 19/50\n",
      "2918/2918 [==============================] - 6s 2ms/step - loss: 0.0250 - acc: 0.9921 - val_loss: 0.7761 - val_acc: 0.8333\n",
      "Epoch 20/50\n",
      "2918/2918 [==============================] - 6s 2ms/step - loss: 0.0177 - acc: 0.9935 - val_loss: 0.9442 - val_acc: 0.8333\n",
      "Epoch 21/50\n",
      "2918/2918 [==============================] - 6s 2ms/step - loss: 0.0205 - acc: 0.9942 - val_loss: 0.9380 - val_acc: 0.8333\n",
      "Epoch 22/50\n",
      "2918/2918 [==============================] - 6s 2ms/step - loss: 0.0249 - acc: 0.9921 - val_loss: 0.9143 - val_acc: 0.8333\n",
      "Epoch 23/50\n",
      "2918/2918 [==============================] - 6s 2ms/step - loss: 0.0182 - acc: 0.9945 - val_loss: 0.8094 - val_acc: 0.8333\n",
      "Epoch 24/50\n",
      "2918/2918 [==============================] - 6s 2ms/step - loss: 0.0140 - acc: 0.9945 - val_loss: 1.0631 - val_acc: 0.8000\n",
      "Epoch 25/50\n",
      "2918/2918 [==============================] - 6s 2ms/step - loss: 0.0100 - acc: 0.9966 - val_loss: 1.0518 - val_acc: 0.8000\n",
      "Epoch 26/50\n",
      "2918/2918 [==============================] - 6s 2ms/step - loss: 0.0156 - acc: 0.9966 - val_loss: 1.1093 - val_acc: 0.8333\n",
      "Epoch 27/50\n",
      "2918/2918 [==============================] - 6s 2ms/step - loss: 0.0148 - acc: 0.9945 - val_loss: 1.1072 - val_acc: 0.8000\n",
      "Epoch 28/50\n",
      "2918/2918 [==============================] - 6s 2ms/step - loss: 0.0120 - acc: 0.9949 - val_loss: 1.0094 - val_acc: 0.8000\n",
      "Epoch 29/50\n",
      "2918/2918 [==============================] - 6s 2ms/step - loss: 0.0087 - acc: 0.9973 - val_loss: 1.1333 - val_acc: 0.8333\n",
      "Epoch 30/50\n",
      "2918/2918 [==============================] - 6s 2ms/step - loss: 0.0196 - acc: 0.9938 - val_loss: 1.0503 - val_acc: 0.8333\n",
      "Epoch 31/50\n",
      "2918/2918 [==============================] - 6s 2ms/step - loss: 0.0129 - acc: 0.9955 - val_loss: 1.1340 - val_acc: 0.8333\n",
      "Epoch 32/50\n",
      "2918/2918 [==============================] - 6s 2ms/step - loss: 0.0067 - acc: 0.9983 - val_loss: 1.4114 - val_acc: 0.8333\n",
      "Epoch 33/50\n",
      "2918/2918 [==============================] - 6s 2ms/step - loss: 0.0091 - acc: 0.9969 - val_loss: 1.3113 - val_acc: 0.8333\n",
      "Epoch 34/50\n",
      "2918/2918 [==============================] - 7s 2ms/step - loss: 0.0040 - acc: 0.9997 - val_loss: 1.5001 - val_acc: 0.8000\n",
      "Epoch 35/50\n",
      "2918/2918 [==============================] - 6s 2ms/step - loss: 0.0096 - acc: 0.9955 - val_loss: 1.1867 - val_acc: 0.8000\n",
      "Epoch 36/50\n",
      "2918/2918 [==============================] - 6s 2ms/step - loss: 0.0083 - acc: 0.9990 - val_loss: 1.5390 - val_acc: 0.8333\n",
      "Epoch 37/50\n",
      "2918/2918 [==============================] - 6s 2ms/step - loss: 0.0072 - acc: 0.9983 - val_loss: 1.3413 - val_acc: 0.8000\n",
      "Epoch 38/50\n",
      "2918/2918 [==============================] - 6s 2ms/step - loss: 0.0114 - acc: 0.9969 - val_loss: 1.4539 - val_acc: 0.8333\n",
      "Epoch 39/50\n",
      "2918/2918 [==============================] - 6s 2ms/step - loss: 0.0117 - acc: 0.9973 - val_loss: 1.5731 - val_acc: 0.8000\n",
      "Epoch 40/50\n",
      "2918/2918 [==============================] - 6s 2ms/step - loss: 0.0054 - acc: 0.9990 - val_loss: 1.5077 - val_acc: 0.8000\n",
      "Epoch 41/50\n",
      "2918/2918 [==============================] - 6s 2ms/step - loss: 0.0122 - acc: 0.9969 - val_loss: 1.1540 - val_acc: 0.8000\n",
      "Epoch 42/50\n",
      "2918/2918 [==============================] - 6s 2ms/step - loss: 0.0069 - acc: 0.9979 - val_loss: 1.0073 - val_acc: 0.8000\n",
      "Epoch 43/50\n",
      "2918/2918 [==============================] - 6s 2ms/step - loss: 0.0059 - acc: 0.9979 - val_loss: 1.2061 - val_acc: 0.8000\n",
      "Epoch 44/50\n",
      "2918/2918 [==============================] - 6s 2ms/step - loss: 0.0027 - acc: 0.9997 - val_loss: 1.4016 - val_acc: 0.8000\n",
      "Epoch 45/50\n",
      "2918/2918 [==============================] - 6s 2ms/step - loss: 0.0057 - acc: 0.9983 - val_loss: 1.2684 - val_acc: 0.8000\n",
      "Epoch 46/50\n",
      "2918/2918 [==============================] - 6s 2ms/step - loss: 0.0099 - acc: 0.9969 - val_loss: 1.6479 - val_acc: 0.8000\n",
      "Epoch 47/50\n",
      "2918/2918 [==============================] - 6s 2ms/step - loss: 0.0074 - acc: 0.9979 - val_loss: 1.2896 - val_acc: 0.8000\n",
      "Epoch 48/50\n",
      "2918/2918 [==============================] - 6s 2ms/step - loss: 0.0092 - acc: 0.9976 - val_loss: 1.1504 - val_acc: 0.8333\n",
      "Epoch 49/50\n",
      "2918/2918 [==============================] - 6s 2ms/step - loss: 0.0086 - acc: 0.9973 - val_loss: 0.9882 - val_acc: 0.8333\n",
      "Epoch 50/50\n",
      "2918/2918 [==============================] - 6s 2ms/step - loss: 0.0047 - acc: 0.9986 - val_loss: 0.9974 - val_acc: 0.8000\n"
     ]
    },
    {
     "data": {
      "text/plain": [
       "<keras.callbacks.History at 0x1a23ee1160>"
      ]
     },
     "execution_count": 13,
     "metadata": {},
     "output_type": "execute_result"
    }
   ],
   "source": [
    "\n",
    "batch_size = 32\n",
    "model.fit(X_train, Y_train, batch_size = 64, epochs =50, verbose=1, validation_split=0.01, shuffle=True)"
   ]
  },
  {
   "cell_type": "code",
   "execution_count": 14,
   "metadata": {
    "_cell_guid": "a970f412-722f-6d6d-72c8-325d0901ccef",
    "_uuid": "7872f6ea819a5d4d08394ba6db8436f9cb2cfe1c"
   },
   "outputs": [
    {
     "name": "stdout",
     "output_type": "stream",
     "text": [
      "521/521 [==============================] - 0s 540us/step\n",
      "test loss, test acc: [1.8508711250180705, 0.7850287910157568]\n"
     ]
    }
   ],
   "source": [
    "# validation_size = 1500\n",
    "\n",
    "# X_validate = X_test[-validation_size:]\n",
    "# Y_validate = Y_test[-validation_size:]\n",
    "# X_test = X_test[:-validation_size]\n",
    "# Y_test = Y_test[:-validation_size]\n",
    "results = model.evaluate(X_test, Y_test, batch_size=128)\n",
    "print('test loss, test acc:', results)\n"
   ]
  },
  {
   "cell_type": "code",
   "execution_count": 15,
   "metadata": {},
   "outputs": [
    {
     "name": "stdout",
     "output_type": "stream",
     "text": [
      "521/521 [==============================] - 0s 497us/step\n",
      "Test Loss = 1.850871168949325\n",
      "Test Accuracy = 0.7850287910157568\n"
     ]
    }
   ],
   "source": [
    "score = model.evaluate(X_test, Y_test)\n",
    "\n",
    "print (\"Test Loss = \" + str(score[0]))\n",
    "print (\"Test Accuracy = \" + str(score[1]))"
   ]
  },
  {
   "cell_type": "code",
   "execution_count": 16,
   "metadata": {
    "_cell_guid": "1add73e9-c6fb-7e4c-8715-ea92f519d2a6",
    "_uuid": "f80e9f3cf281adb3ab0357cbf6f886eb1dce3005"
   },
   "outputs": [],
   "source": [
    "model.save(\"twitter_model_trained.h5\")"
   ]
  },
  {
   "cell_type": "code",
   "execution_count": 17,
   "metadata": {
    "_cell_guid": "24c64f46-edd1-8d0b-7c7c-ef50fd26b2fd",
    "_uuid": "d9aac68e2013b3beffb6a764cc5b85be83073e66"
   },
   "outputs": [],
   "source": [
    "from keras.models import load_model\n",
    "twitter_model = load_model(\"twitter_model_trained.h5\")"
   ]
  },
  {
   "cell_type": "code",
   "execution_count": 18,
   "metadata": {},
   "outputs": [
    {
     "name": "stdout",
     "output_type": "stream",
     "text": [
      "Normal Neural Network - Loss: 1.850871168949325, Accuracy: 0.7850287910157568\n"
     ]
    }
   ],
   "source": [
    "model_loss, model_accuracy = twitter_model.evaluate(\n",
    "    X_test, Y_test, verbose=2)\n",
    "print(\n",
    "    f\"Normal Neural Network - Loss: {model_loss}, Accuracy: {model_accuracy}\")"
   ]
  },
  {
   "cell_type": "code",
   "execution_count": null,
   "metadata": {},
   "outputs": [],
   "source": []
  },
  {
   "cell_type": "code",
   "execution_count": null,
   "metadata": {},
   "outputs": [],
   "source": []
  },
  {
   "cell_type": "code",
   "execution_count": null,
   "metadata": {},
   "outputs": [
    {
     "name": "stdout",
     "output_type": "stream",
     "text": [
      "Input sentence: Why would you waste a good iPod like this...idiots.\n",
      "[5.7355708e-05 3.0966074e-04 9.9963295e-01]\n",
      "negative\n",
      "Do you still want to input another text? [y/n]y\n",
      "Input sentence:  my birthday is this coming Thursday and I don't necessarily want an Ipod but a happy birthday would suffice haha\n",
      "[4.1951375e-06 7.9003265e-05 9.9991679e-01]\n",
      "negative\n",
      "Do you still want to input another text? [y/n]y\n",
      "Input sentence: happy\n",
      "[0.66274124 0.07626074 0.260998  ]\n",
      "Positive\n",
      "Do you still want to input another text? [y/n]y\n",
      "Input sentence: haha\n",
      "[0.0379269  0.01192971 0.9501434 ]\n",
      "negative\n",
      "Do you still want to input another text? [y/n]No iPod until 10th grade began... Brother is still in elementary and succeeded in convincing dad he 'needs' one.\n",
      "Input sentence: y\n",
      "[0.00313517 0.00267506 0.99418974]\n",
      "negative\n",
      "Do you still want to input another text? [y/n]No iPod until 10th grade began... Brother is still in elementary and succeeded in convincing dad he 'needs' one.\n",
      "Input sentence: No iPod until 10th grade began... Brother is still in elementary and succeeded in convincing dad he 'needs' one.\n",
      "[0.00472075 0.7933013  0.20197795]\n",
      "neutral\n",
      "Do you still want to input another text? [y/n]y\n",
      "Input sentence: I have to deal with this ipod so rest in pieces my emo snowflake fuckers. Here's to our tomorrow. Thank you for living to see today.\n",
      "[3.6330098e-07 9.9999928e-01 3.5892222e-07]\n",
      "neutral\n",
      "Do you still want to input another text? [y/n]y\n",
      "Input sentence: Cool filter called the blinding sun &amp; iPhone 5c... Lol\n",
      "[1.7333628e-09 1.0350426e-08 1.0000000e+00]\n",
      "negative\n",
      "Do you still want to input another text? [y/n]y\n",
      "Input sentence: Met with iOS Developer today. We may have a \"go\". 8-)\n",
      "[3.2856474e-06 1.1004270e-04 9.9988663e-01]\n",
      "negative\n",
      "Do you still want to input another text? [y/n]Met with iOS Developer today. We may have a \"go\"\n",
      "Input sentence: y\n",
      "[0.00313517 0.00267506 0.99418974]\n",
      "negative\n",
      "Do you still want to input another text? [y/n]positive\n",
      "Input sentence: positive\n",
      "[0.9323459  0.05046472 0.01718932]\n",
      "Positive\n",
      "Do you still want to input another text? [y/n]y\n",
      "Input sentence: Met with iOS Developer today.\n",
      "[0.01224574 0.81778747 0.16996676]\n",
      "neutral\n"
     ]
    }
   ],
   "source": [
    "done = False\n",
    "while done == False:\n",
    "    sentence = input('Input sentence: ')\n",
    "  \n",
    "    sentence_encoding = tokenizer.texts_to_sequences([sentence])\n",
    "    padded_sentence = sequence.pad_sequences(sentence_encoding, maxlen=32)\n",
    "  \n",
    "    prediction = model.predict(np.array(padded_sentence))\n",
    "    print(max(prediction))\n",
    "    if prediction[0][0] == max(prediction[0]):\n",
    "#         print(prediction[0])\n",
    "        print('Positive')\n",
    "    elif prediction[0][1] == max(prediction[0]):\n",
    "#         print(prediction[0])\n",
    "        print('neutral')\n",
    "    elif prediction[0][2] == max(prediction[0]):\n",
    "#         print(prediction[0])\n",
    "        print('negative')\n",
    "\n",
    "    \n",
    "  \n",
    "    finish = input('Do you still want to input another text? [y/n]')\n",
    "    if finish == 'N' or finish == 'n':\n",
    "        done = True"
   ]
  },
  {
   "cell_type": "code",
   "execution_count": null,
   "metadata": {},
   "outputs": [],
   "source": []
  },
  {
   "cell_type": "code",
   "execution_count": null,
   "metadata": {},
   "outputs": [],
   "source": []
  }
 ],
 "metadata": {
  "_change_revision": 0,
  "_is_fork": false,
  "kernelspec": {
   "display_name": "Python 3",
   "language": "python",
   "name": "python3"
  },
  "language_info": {
   "codemirror_mode": {
    "name": "ipython",
    "version": 3
   },
   "file_extension": ".py",
   "mimetype": "text/x-python",
   "name": "python",
   "nbconvert_exporter": "python",
   "pygments_lexer": "ipython3",
   "version": "3.7.1"
  }
 },
 "nbformat": 4,
 "nbformat_minor": 1
}
