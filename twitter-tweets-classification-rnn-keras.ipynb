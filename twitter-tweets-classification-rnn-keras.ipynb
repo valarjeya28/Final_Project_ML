{
 "cells": [
  {
   "cell_type": "code",
   "execution_count": 2,
   "metadata": {
    "_cell_guid": "6c53202d-5c34-4859-e7e9-8ef5c7068287",
    "_uuid": "717bb968c36b9325c7d4cae5724a3672e49ff243"
   },
   "outputs": [
    {
     "name": "stderr",
     "output_type": "stream",
     "text": [
      "Using TensorFlow backend.\n"
     ]
    }
   ],
   "source": [
    "import numpy as np # linear algebra\n",
    "import pandas as pd # data processing, CSV file I/O (e.g. pd.read_csv)\n",
    "\n",
    "from sklearn.feature_extraction.text import CountVectorizer\n",
    "from keras.preprocessing.text import Tokenizer\n",
    "from keras.preprocessing.sequence import pad_sequences\n",
    "from keras.preprocessing import text, sequence\n",
    "from keras.models import Sequential\n",
    "from keras.layers import Dense, Embedding, LSTM, SpatialDropout1D\n",
    "from keras.layers import Dense, Embedding, GlobalMaxPooling1D, CuDNNGRU, Dropout, BatchNormalization, Activation\n",
    "\n",
    "from sklearn.model_selection import train_test_split\n",
    "from keras.utils.np_utils import to_categorical\n",
    "import re"
   ]
  },
  {
   "cell_type": "code",
   "execution_count": 3,
   "metadata": {
    "_cell_guid": "89c8c923-c0bf-7b35-9ab8-e63f00b74e5a",
    "_uuid": "d2bc3bbd2ea3961c49e6673145a0a7226c160e58"
   },
   "outputs": [
    {
     "data": {
      "text/html": [
       "<div>\n",
       "<style scoped>\n",
       "    .dataframe tbody tr th:only-of-type {\n",
       "        vertical-align: middle;\n",
       "    }\n",
       "\n",
       "    .dataframe tbody tr th {\n",
       "        vertical-align: top;\n",
       "    }\n",
       "\n",
       "    .dataframe thead th {\n",
       "        text-align: right;\n",
       "    }\n",
       "</style>\n",
       "<table border=\"1\" class=\"dataframe\">\n",
       "  <thead>\n",
       "    <tr style=\"text-align: right;\">\n",
       "      <th></th>\n",
       "      <th>Tweet</th>\n",
       "      <th>Category</th>\n",
       "    </tr>\n",
       "  </thead>\n",
       "  <tbody>\n",
       "    <tr>\n",
       "      <th>0</th>\n",
       "      <td>IOS 9 App Transport Security. Mm need to check...</td>\n",
       "      <td>neutral</td>\n",
       "    </tr>\n",
       "    <tr>\n",
       "      <th>1</th>\n",
       "      <td>Mar if you have an iOS device, you should down...</td>\n",
       "      <td>neutral</td>\n",
       "    </tr>\n",
       "    <tr>\n",
       "      <th>2</th>\n",
       "      <td>@jimmie_vanagon my phone does not run on lates...</td>\n",
       "      <td>negative</td>\n",
       "    </tr>\n",
       "    <tr>\n",
       "      <th>3</th>\n",
       "      <td>Not sure how to start your publication on iOS?...</td>\n",
       "      <td>positive</td>\n",
       "    </tr>\n",
       "    <tr>\n",
       "      <th>4</th>\n",
       "      <td>Two Dollar Tuesday is here with Forklift 2, Qu...</td>\n",
       "      <td>neutral</td>\n",
       "    </tr>\n",
       "  </tbody>\n",
       "</table>\n",
       "</div>"
      ],
      "text/plain": [
       "                                               Tweet  Category\n",
       "0  IOS 9 App Transport Security. Mm need to check...   neutral\n",
       "1  Mar if you have an iOS device, you should down...   neutral\n",
       "2  @jimmie_vanagon my phone does not run on lates...  negative\n",
       "3  Not sure how to start your publication on iOS?...  positive\n",
       "4  Two Dollar Tuesday is here with Forklift 2, Qu...   neutral"
      ]
     },
     "execution_count": 3,
     "metadata": {},
     "output_type": "execute_result"
    }
   ],
   "source": [
    "data = pd.read_csv('train.csv')\n",
    "# Keeping only the neccessary columns\n",
    "data = data[['Tweet','Category']]\n",
    "data.head()"
   ]
  },
  {
   "cell_type": "code",
   "execution_count": 4,
   "metadata": {
    "_uuid": "5f5049ed46dc4643e4a2b8e7ad5746649f5ae5dd"
   },
   "outputs": [
    {
     "data": {
      "text/html": [
       "<div>\n",
       "<style scoped>\n",
       "    .dataframe tbody tr th:only-of-type {\n",
       "        vertical-align: middle;\n",
       "    }\n",
       "\n",
       "    .dataframe tbody tr th {\n",
       "        vertical-align: top;\n",
       "    }\n",
       "\n",
       "    .dataframe thead th {\n",
       "        text-align: right;\n",
       "    }\n",
       "</style>\n",
       "<table border=\"1\" class=\"dataframe\">\n",
       "  <thead>\n",
       "    <tr style=\"text-align: right;\">\n",
       "      <th></th>\n",
       "      <th>Tweet</th>\n",
       "      <th>Category</th>\n",
       "    </tr>\n",
       "  </thead>\n",
       "  <tbody>\n",
       "    <tr>\n",
       "      <th>0</th>\n",
       "      <td>IOS 9 App Transport Security. Mm need to check...</td>\n",
       "      <td>neutral</td>\n",
       "    </tr>\n",
       "    <tr>\n",
       "      <th>1</th>\n",
       "      <td>Mar if you have an iOS device, you should down...</td>\n",
       "      <td>neutral</td>\n",
       "    </tr>\n",
       "    <tr>\n",
       "      <th>2</th>\n",
       "      <td>@jimmie_vanagon my phone does not run on lates...</td>\n",
       "      <td>negative</td>\n",
       "    </tr>\n",
       "    <tr>\n",
       "      <th>3</th>\n",
       "      <td>Not sure how to start your publication on iOS?...</td>\n",
       "      <td>positive</td>\n",
       "    </tr>\n",
       "    <tr>\n",
       "      <th>4</th>\n",
       "      <td>Two Dollar Tuesday is here with Forklift 2, Qu...</td>\n",
       "      <td>neutral</td>\n",
       "    </tr>\n",
       "  </tbody>\n",
       "</table>\n",
       "</div>"
      ],
      "text/plain": [
       "                                               Tweet  Category\n",
       "0  IOS 9 App Transport Security. Mm need to check...   neutral\n",
       "1  Mar if you have an iOS device, you should down...   neutral\n",
       "2  @jimmie_vanagon my phone does not run on lates...  negative\n",
       "3  Not sure how to start your publication on iOS?...  positive\n",
       "4  Two Dollar Tuesday is here with Forklift 2, Qu...   neutral"
      ]
     },
     "execution_count": 4,
     "metadata": {},
     "output_type": "execute_result"
    }
   ],
   "source": [
    "data[:5]"
   ]
  },
  {
   "cell_type": "code",
   "execution_count": 5,
   "metadata": {
    "_uuid": "d0731137ce0796a4b8da50060e2e3561d0d4e516"
   },
   "outputs": [
    {
     "name": "stdout",
     "output_type": "stream",
     "text": [
      "<class 'pandas.core.frame.DataFrame'>\n",
      "RangeIndex: 5422 entries, 0 to 5421\n",
      "Data columns (total 2 columns):\n",
      "Tweet       5422 non-null object\n",
      "Category    5422 non-null object\n",
      "dtypes: object(2)\n",
      "memory usage: 84.8+ KB\n"
     ]
    }
   ],
   "source": [
    "data.info()"
   ]
  },
  {
   "cell_type": "code",
   "execution_count": 6,
   "metadata": {
    "_uuid": "ce8fd8ea74ca639893881b5cdf78a37bf91f45b2"
   },
   "outputs": [
    {
     "data": {
      "text/html": [
       "<div>\n",
       "<style scoped>\n",
       "    .dataframe tbody tr th:only-of-type {\n",
       "        vertical-align: middle;\n",
       "    }\n",
       "\n",
       "    .dataframe tbody tr th {\n",
       "        vertical-align: top;\n",
       "    }\n",
       "\n",
       "    .dataframe thead th {\n",
       "        text-align: right;\n",
       "    }\n",
       "</style>\n",
       "<table border=\"1\" class=\"dataframe\">\n",
       "  <thead>\n",
       "    <tr style=\"text-align: right;\">\n",
       "      <th></th>\n",
       "      <th>Tweet</th>\n",
       "      <th>Category</th>\n",
       "    </tr>\n",
       "  </thead>\n",
       "  <tbody>\n",
       "    <tr>\n",
       "      <th>count</th>\n",
       "      <td>5422</td>\n",
       "      <td>5422</td>\n",
       "    </tr>\n",
       "    <tr>\n",
       "      <th>unique</th>\n",
       "      <td>5417</td>\n",
       "      <td>4</td>\n",
       "    </tr>\n",
       "    <tr>\n",
       "      <th>top</th>\n",
       "      <td>@pperrin @nellesapelle Very wise. Hard to see ...</td>\n",
       "      <td>positive</td>\n",
       "    </tr>\n",
       "    <tr>\n",
       "      <th>freq</th>\n",
       "      <td>2</td>\n",
       "      <td>2599</td>\n",
       "    </tr>\n",
       "  </tbody>\n",
       "</table>\n",
       "</div>"
      ],
      "text/plain": [
       "                                                    Tweet  Category\n",
       "count                                                5422      5422\n",
       "unique                                               5417         4\n",
       "top     @pperrin @nellesapelle Very wise. Hard to see ...  positive\n",
       "freq                                                    2      2599"
      ]
     },
     "execution_count": 6,
     "metadata": {},
     "output_type": "execute_result"
    }
   ],
   "source": [
    "data.describe()"
   ]
  },
  {
   "cell_type": "code",
   "execution_count": 7,
   "metadata": {
    "_uuid": "ee5a3539f1678a142c79eeb42e3c25e706362dec"
   },
   "outputs": [
    {
     "data": {
      "text/plain": [
       "Index(['Tweet', 'Category'], dtype='object')"
      ]
     },
     "execution_count": 7,
     "metadata": {},
     "output_type": "execute_result"
    }
   ],
   "source": [
    "data.columns"
   ]
  },
  {
   "cell_type": "code",
   "execution_count": 8,
   "metadata": {
    "_uuid": "0f65e6460821f505950c2c2a882c8307c9fe7d95"
   },
   "outputs": [
    {
     "data": {
      "text/plain": [
       "Tweet       object\n",
       "Category    object\n",
       "dtype: object"
      ]
     },
     "execution_count": 8,
     "metadata": {},
     "output_type": "execute_result"
    }
   ],
   "source": [
    "data.dtypes"
   ]
  },
  {
   "cell_type": "code",
   "execution_count": 9,
   "metadata": {
    "_uuid": "aa300ed1eeecccad9f5d35b84062c4d2a1c79afc"
   },
   "outputs": [
    {
     "data": {
      "text/plain": [
       "Tweet       0\n",
       "Category    0\n",
       "dtype: int64"
      ]
     },
     "execution_count": 9,
     "metadata": {},
     "output_type": "execute_result"
    }
   ],
   "source": [
    "data.isnull().sum()"
   ]
  },
  {
   "cell_type": "code",
   "execution_count": 10,
   "metadata": {
    "_uuid": "ff4c10166d405f530a1783e8b58982b71ecf9c99"
   },
   "outputs": [
    {
     "name": "stdout",
     "output_type": "stream",
     "text": [
      "10844\n"
     ]
    },
    {
     "data": {
      "text/html": [
       "<div>\n",
       "<style scoped>\n",
       "    .dataframe tbody tr th:only-of-type {\n",
       "        vertical-align: middle;\n",
       "    }\n",
       "\n",
       "    .dataframe tbody tr th {\n",
       "        vertical-align: top;\n",
       "    }\n",
       "\n",
       "    .dataframe thead th {\n",
       "        text-align: right;\n",
       "    }\n",
       "</style>\n",
       "<table border=\"1\" class=\"dataframe\">\n",
       "  <thead>\n",
       "    <tr style=\"text-align: right;\">\n",
       "      <th></th>\n",
       "      <th>Tweet</th>\n",
       "      <th>Category</th>\n",
       "    </tr>\n",
       "  </thead>\n",
       "  <tbody>\n",
       "    <tr>\n",
       "      <th>0</th>\n",
       "      <td>IOS 9 App Transport Security. Mm need to check...</td>\n",
       "      <td>neutral</td>\n",
       "    </tr>\n",
       "    <tr>\n",
       "      <th>1</th>\n",
       "      <td>Mar if you have an iOS device, you should down...</td>\n",
       "      <td>neutral</td>\n",
       "    </tr>\n",
       "    <tr>\n",
       "      <th>2</th>\n",
       "      <td>@jimmie_vanagon my phone does not run on lates...</td>\n",
       "      <td>negative</td>\n",
       "    </tr>\n",
       "    <tr>\n",
       "      <th>3</th>\n",
       "      <td>Not sure how to start your publication on iOS?...</td>\n",
       "      <td>positive</td>\n",
       "    </tr>\n",
       "    <tr>\n",
       "      <th>4</th>\n",
       "      <td>Two Dollar Tuesday is here with Forklift 2, Qu...</td>\n",
       "      <td>neutral</td>\n",
       "    </tr>\n",
       "  </tbody>\n",
       "</table>\n",
       "</div>"
      ],
      "text/plain": [
       "                                               Tweet  Category\n",
       "0  IOS 9 App Transport Security. Mm need to check...   neutral\n",
       "1  Mar if you have an iOS device, you should down...   neutral\n",
       "2  @jimmie_vanagon my phone does not run on lates...  negative\n",
       "3  Not sure how to start your publication on iOS?...  positive\n",
       "4  Two Dollar Tuesday is here with Forklift 2, Qu...   neutral"
      ]
     },
     "execution_count": 10,
     "metadata": {},
     "output_type": "execute_result"
    }
   ],
   "source": [
    "print(data.size)\n",
    "data[:5]"
   ]
  },
  {
   "cell_type": "code",
   "execution_count": 11,
   "metadata": {
    "_cell_guid": "43632d2d-6160-12ce-48b0-e5eb1c207076",
    "_uuid": "d0f8b4542106a279f7398db7285ae5e370b2e813"
   },
   "outputs": [
    {
     "name": "stdout",
     "output_type": "stream",
     "text": [
      "                                               Tweet  Category\n",
      "2  @jimmie_vanagon my phone does not run on lates...  negative\n",
      "3  Not sure how to start your publication on iOS?...  positive\n",
      "                                               Tweet  Category  \\\n",
      "2  @jimmie_vanagon my phone does not run on lates...  negative   \n",
      "3  Not sure how to start your publication on iOS?...  positive   \n",
      "\n",
      "                                                text  \n",
      "2  @jimmie_vanagon my phone does not run on lates...  \n",
      "3  not sure how to start your publication on ios?...  \n",
      "                                               Tweet  Category  \\\n",
      "2  @jimmie_vanagon my phone does not run on lates...  negative   \n",
      "3  Not sure how to start your publication on iOS?...  positive   \n",
      "\n",
      "                                                text  \n",
      "2  jimmie_vanagon my phone does not run on latest...  \n",
      "3  Not sure how to start your publication on iOS ...  \n",
      "Tweet       object\n",
      "Category    object\n",
      "text        object\n",
      "dtype: object\n",
      "7797\n",
      "2607\n",
      "10407\n",
      "[[20, 254, 287, 35, 310, 7, 1301, 242, 294, 16, 1011, 13, 722, 1, 343, 25, 39, 17, 27], [35, 295, 114, 2, 103, 59, 7, 242, 855, 15, 163, 18, 559, 43, 925, 70, 8, 49, 10, 3, 4], [482, 13, 242, 1877, 335, 23, 14, 164, 249, 115, 482, 1878, 11, 673, 38, 296, 13, 1530, 310, 10, 3, 4], [70, 1879, 18, 926, 13, 242, 8, 637, 1531, 9, 1, 82, 8, 388, 137, 12, 63, 14, 158, 2, 85, 10, 3, 4], [93, 6, 1532, 14, 68, 2, 190, 7, 158, 378, 18, 165, 158, 69, 2, 1012, 18, 242, 7, 6, 166, 1012, 18, 82, 10, 3, 4]]\n",
      "[[   0    0    0    0    0    0    0    0    0    0    0    0    0   20\n",
      "   254  287   35  310    7 1301  242  294   16 1011   13  722    1  343\n",
      "    25   39   17   27]\n",
      " [   0    0    0    0    0    0    0    0    0    0    0   35  295  114\n",
      "     2  103   59    7  242  855   15  163   18  559   43  925   70    8\n",
      "    49   10    3    4]\n",
      " [   0    0    0    0    0    0    0    0    0    0  482   13  242 1877\n",
      "   335   23   14  164  249  115  482 1878   11  673   38  296   13 1530\n",
      "   310   10    3    4]\n",
      " [   0    0    0    0    0    0    0    0   70 1879   18  926   13  242\n",
      "     8  637 1531    9    1   82    8  388  137   12   63   14  158    2\n",
      "    85   10    3    4]\n",
      " [   0    0    0    0    0   93    6 1532   14   68    2  190    7  158\n",
      "   378   18  165  158   69    2 1012   18  242    7    6  166 1012   18\n",
      "    82   10    3    4]]\n"
     ]
    }
   ],
   "source": [
    "# it will remove all Neutral values from data\n",
    "data = data[data.Category != \"neutral\"]\n",
    "print(data[:2])\n",
    "\n",
    "# it will remove all the eg:-  RT @NancyLeeGrahn:  \n",
    "data['text'] = data['Tweet'].apply(lambda x: x.lower())\n",
    "print(data[:2])\n",
    "#print(data)\n",
    "data['text'] = data['Tweet'].apply((lambda x: re.sub('[^a-zA-z0-9\\s]','',x)))\n",
    "print(data[:2])\n",
    "print(data.dtypes)\n",
    "print(data[ data['Category'] == 'positive'].size)\n",
    "print(data[ data['Category'] == 'negative'].size)\n",
    "print(data[data['Category']!='neutral'].size)\n",
    "\n",
    "for idx,row in data.iterrows():\n",
    "    #print(idx,row)\n",
    "    row[0] = row[0].replace('rt',' ')\n",
    "    \n",
    "max_fatures = 2000\n",
    "tokenizer = Tokenizer(num_words=max_fatures, split=' ')\n",
    "tokenizer.fit_on_texts(data['Tweet'].values)\n",
    "X = tokenizer.texts_to_sequences(data['Tweet'].values)\n",
    "print(X[:5])\n",
    "\n",
    "\n",
    "# pad: to make all input of same length\n",
    "X = pad_sequences(X)\n",
    "print(X[:5])"
   ]
  },
  {
   "cell_type": "code",
   "execution_count": 12,
   "metadata": {
    "_cell_guid": "1ba3cf60-a83c-9c21-05e0-b14303027e93",
    "_uuid": "05cb9ef0ec9e0a4067e3ab7c1bda7b2c1211feda"
   },
   "outputs": [
    {
     "name": "stderr",
     "output_type": "stream",
     "text": [
      "WARNING: Logging before flag parsing goes to stderr.\n",
      "W0729 01:28:05.923521 4517090752 deprecation_wrapper.py:119] From /Users/valarmathipukuraj/anaconda3/lib/python3.7/site-packages/keras/backend/tensorflow_backend.py:74: The name tf.get_default_graph is deprecated. Please use tf.compat.v1.get_default_graph instead.\n",
      "\n",
      "W0729 01:28:05.958562 4517090752 deprecation_wrapper.py:119] From /Users/valarmathipukuraj/anaconda3/lib/python3.7/site-packages/keras/backend/tensorflow_backend.py:517: The name tf.placeholder is deprecated. Please use tf.compat.v1.placeholder instead.\n",
      "\n",
      "W0729 01:28:05.967037 4517090752 deprecation_wrapper.py:119] From /Users/valarmathipukuraj/anaconda3/lib/python3.7/site-packages/keras/backend/tensorflow_backend.py:4138: The name tf.random_uniform is deprecated. Please use tf.random.uniform instead.\n",
      "\n",
      "W0729 01:28:06.029956 4517090752 deprecation_wrapper.py:119] From /Users/valarmathipukuraj/anaconda3/lib/python3.7/site-packages/keras/backend/tensorflow_backend.py:133: The name tf.placeholder_with_default is deprecated. Please use tf.compat.v1.placeholder_with_default instead.\n",
      "\n",
      "W0729 01:28:06.055291 4517090752 deprecation.py:506] From /Users/valarmathipukuraj/anaconda3/lib/python3.7/site-packages/keras/backend/tensorflow_backend.py:3445: calling dropout (from tensorflow.python.ops.nn_ops) with keep_prob is deprecated and will be removed in a future version.\n",
      "Instructions for updating:\n",
      "Please use `rate` instead of `keep_prob`. Rate should be set to `rate = 1 - keep_prob`.\n",
      "W0729 01:28:06.503648 4517090752 deprecation_wrapper.py:119] From /Users/valarmathipukuraj/anaconda3/lib/python3.7/site-packages/keras/optimizers.py:790: The name tf.train.Optimizer is deprecated. Please use tf.compat.v1.train.Optimizer instead.\n",
      "\n",
      "W0729 01:28:06.537851 4517090752 deprecation_wrapper.py:119] From /Users/valarmathipukuraj/anaconda3/lib/python3.7/site-packages/keras/backend/tensorflow_backend.py:3295: The name tf.log is deprecated. Please use tf.math.log instead.\n",
      "\n"
     ]
    },
    {
     "name": "stdout",
     "output_type": "stream",
     "text": [
      "Time to compile model: 0.07051992416381836\n",
      "_________________________________________________________________\n",
      "Layer (type)                 Output Shape              Param #   \n",
      "=================================================================\n",
      "embedding_1 (Embedding)      (None, 32, 128)           256000    \n",
      "_________________________________________________________________\n",
      "spatial_dropout1d_1 (Spatial (None, 32, 128)           0         \n",
      "_________________________________________________________________\n",
      "lstm_1 (LSTM)                (None, 196)               254800    \n",
      "_________________________________________________________________\n",
      "dense_1 (Dense)              (None, 3)                 591       \n",
      "=================================================================\n",
      "Total params: 511,391\n",
      "Trainable params: 511,391\n",
      "Non-trainable params: 0\n",
      "_________________________________________________________________\n",
      "None\n"
     ]
    }
   ],
   "source": [
    "# Keras offers an Embedding layer that can be used for neural networks on text data.\n",
    "'''\n",
    "source from: machinelearningmastery.com\n",
    "The Embedding layer is defined as the first hidden layer of a network. It must specify 3 arguments:\n",
    "\n",
    "It must specify 3 arguments:\n",
    "\n",
    "input_dim: This is the size of the vocabulary in the text data. For example, if your data is integer encoded to values between 0-10, then the size of the vocabulary would be 11 words.\n",
    "output_dim: This is the size of the vector space in which words will be embedded. It defines the size of the output vectors from this layer for each word. For example, it could be 32 or 100 or even larger. Test different values for your problem.\n",
    "input_length: This is the length of input sequences, as you would define for any input layer of a Keras model. For example, if all of your input documents are comprised of 1000 words, this would be 1000.\n",
    "For example, below we define an Embedding layer with a vocabulary of 200 (e.g. integer encoded words from 0 to 199, inclusive), a vector space of 32 dimensions in which words will be embedded, and input documents that have 50 words each.\n",
    "\n",
    "\n",
    "e = Embedding(200, 32, input_length=50)\n",
    "1\n",
    "e = Embedding(200, 32, input_length=50)\n",
    "\n",
    "\n",
    "'''\n",
    "embed_dim = 128\n",
    "lstm_out = 196\n",
    "import time\n",
    "model = Sequential()\n",
    "model.add(Embedding(max_fatures, embed_dim,input_length = X.shape[1]))\n",
    "model.add(SpatialDropout1D(0.4))\n",
    "model.add(LSTM(lstm_out, dropout=0.2, recurrent_dropout=0.2))\n",
    "model.add(Dense(3,activation='softmax'))\n",
    "start=time.time()\n",
    "model.compile(loss = 'categorical_crossentropy', optimizer='adam',metrics = ['accuracy'])\n",
    "print(\"Time to compile model:\",time.time()-start)\n",
    "print(model.summary())"
   ]
  },
  {
   "cell_type": "code",
   "execution_count": null,
   "metadata": {
    "_cell_guid": "b35748b8-2353-3db2-e571-5fd22bb93eb0",
    "_uuid": "a380bbfae2d098d407b138fc44622c9913a31c07"
   },
   "outputs": [],
   "source": [
    "print((data['Category']).values)\n",
    "Y = pd.get_dummies(data['Category']).values\n",
    "print(Y)\n",
    "X_train, X_test, Y_train, Y_test = train_test_split(X,Y, test_size = 0.15, random_state = 42)\n",
    "print(X_train.shape,Y_train.shape)\n",
    "print(X_test.shape,Y_test.shape)"
   ]
  },
  {
   "cell_type": "code",
   "execution_count": 40,
   "metadata": {
    "_cell_guid": "d5e499ac-2eba-6ff7-8d9a-ff65eb04099b",
    "_uuid": "d0b239912cf67294a9f5af6883bb159c44318fc7"
   },
   "outputs": [
    {
     "name": "stdout",
     "output_type": "stream",
     "text": [
      "Train on 2918 samples, validate on 30 samples\n",
      "Epoch 1/5\n",
      "2918/2918 [==============================] - 6s 2ms/step - loss: 0.0808 - acc: 0.9753 - val_loss: 0.6394 - val_acc: 0.8667\n",
      "Epoch 2/5\n",
      "2918/2918 [==============================] - 6s 2ms/step - loss: 0.0638 - acc: 0.9777 - val_loss: 0.7144 - val_acc: 0.8667\n",
      "Epoch 3/5\n",
      "2918/2918 [==============================] - 6s 2ms/step - loss: 0.0626 - acc: 0.9801 - val_loss: 0.7276 - val_acc: 0.8667\n",
      "Epoch 4/5\n",
      "2918/2918 [==============================] - 6s 2ms/step - loss: 0.0613 - acc: 0.9791 - val_loss: 0.6833 - val_acc: 0.8667\n",
      "Epoch 5/5\n",
      "2918/2918 [==============================] - 6s 2ms/step - loss: 0.0431 - acc: 0.9863 - val_loss: 0.8384 - val_acc: 0.8667\n"
     ]
    },
    {
     "data": {
      "text/plain": [
       "<keras.callbacks.History at 0x1a307dee48>"
      ]
     },
     "execution_count": 40,
     "metadata": {},
     "output_type": "execute_result"
    }
   ],
   "source": [
    "\n",
    "batch_size = 32\n",
    "model.fit(X_train, Y_train, batch_size = 64, epochs = 5, verbose=1, validation_split=0.01, shuffle=True)"
   ]
  },
  {
   "cell_type": "code",
   "execution_count": 47,
   "metadata": {
    "_cell_guid": "a970f412-722f-6d6d-72c8-325d0901ccef",
    "_uuid": "7872f6ea819a5d4d08394ba6db8436f9cb2cfe1c"
   },
   "outputs": [
    {
     "name": "stdout",
     "output_type": "stream",
     "text": [
      "521/521 [==============================] - 0s 591us/step\n",
      "test loss, test acc: [1.1364824778745362, 0.7850287910157568]\n"
     ]
    }
   ],
   "source": [
    "# validation_size = 1500\n",
    "\n",
    "# X_validate = X_test[-validation_size:]\n",
    "# Y_validate = Y_test[-validation_size:]\n",
    "# X_test = X_test[:-validation_size]\n",
    "# Y_test = Y_test[:-validation_size]\n",
    "results = model.evaluate(X_test, Y_test, batch_size=128)\n",
    "print('test loss, test acc:', results)\n"
   ]
  },
  {
   "cell_type": "code",
   "execution_count": 48,
   "metadata": {},
   "outputs": [
    {
     "name": "stdout",
     "output_type": "stream",
     "text": [
      "521/521 [==============================] - 0s 547us/step\n",
      "Test Loss = 1.136482426621406\n",
      "Test Accuracy = 0.7850287910157568\n"
     ]
    }
   ],
   "source": [
    "score = model.evaluate(X_test, Y_test)\n",
    "\n",
    "print (\"Test Loss = \" + str(score[0]))\n",
    "print (\"Test Accuracy = \" + str(score[1]))"
   ]
  },
  {
   "cell_type": "code",
   "execution_count": 49,
   "metadata": {
    "_cell_guid": "1add73e9-c6fb-7e4c-8715-ea92f519d2a6",
    "_uuid": "f80e9f3cf281adb3ab0357cbf6f886eb1dce3005"
   },
   "outputs": [],
   "source": [
    "model.save(\"twitter_model_trained.h5\")"
   ]
  },
  {
   "cell_type": "code",
   "execution_count": 50,
   "metadata": {
    "_cell_guid": "24c64f46-edd1-8d0b-7c7c-ef50fd26b2fd",
    "_uuid": "d9aac68e2013b3beffb6a764cc5b85be83073e66"
   },
   "outputs": [],
   "source": [
    "from keras.models import load_model\n",
    "twitter_model = load_model(\"twitter_model_trained.h5\")"
   ]
  },
  {
   "cell_type": "code",
   "execution_count": 51,
   "metadata": {},
   "outputs": [
    {
     "name": "stdout",
     "output_type": "stream",
     "text": [
      "Normal Neural Network - Loss: 1.136482426621406, Accuracy: 0.7850287910157568\n"
     ]
    }
   ],
   "source": [
    "model_loss, model_accuracy = twitter_model.evaluate(\n",
    "    X_test, Y_test, verbose=2)\n",
    "print(\n",
    "    f\"Normal Neural Network - Loss: {model_loss}, Accuracy: {model_accuracy}\")"
   ]
  },
  {
   "cell_type": "code",
   "execution_count": null,
   "metadata": {},
   "outputs": [],
   "source": []
  },
  {
   "cell_type": "code",
   "execution_count": null,
   "metadata": {},
   "outputs": [],
   "source": []
  },
  {
   "cell_type": "code",
   "execution_count": null,
   "metadata": {},
   "outputs": [
    {
     "name": "stdout",
     "output_type": "stream",
     "text": [
      "Input sentence: bad\n",
      "[0.72516793 0.10059382 0.17423823]\n",
      "Positive\n",
      "Do you still want to input another text? [y/n]never bad\n",
      "Input sentence: never bad\n",
      "[0.6153811  0.1349733  0.24964555]\n",
      "Positive\n",
      "Do you still want to input another text? [y/n]sad\n",
      "Input sentence: sad\n",
      "[0.20897917 0.7668234  0.02419747]\n",
      "neutral\n",
      "Do you still want to input another text? [y/n]i am very angry\n",
      "Input sentence: angry\n",
      "[0.8392723  0.10413066 0.05659703]\n",
      "Positive\n",
      "Do you still want to input another text? [y/n]y\n",
      "Input sentence: They may have a SuperBowl in Dallas, but Dallas ain't winning a SuperBowl\n",
      "[0.00230926 0.01303167 0.9846591 ]\n",
      "negative\n",
      "Do you still want to input another text? [y/n]y\n",
      "Input sentence: AFC away fans on Saturday. All this stuff about the 'she said no' chant. It's bollocks. When he has the ball, just turn your back on him.\n",
      "[4.7326093e-06 2.9732537e-04 9.9969792e-01]\n",
      "negative\n"
     ]
    }
   ],
   "source": [
    "done = False\n",
    "while done == False:\n",
    "    sentence = input('Input sentence: ')\n",
    "  \n",
    "    sentence_encoding = tokenizer.texts_to_sequences([sentence])\n",
    "    padded_sentence = sequence.pad_sequences(sentence_encoding, maxlen=32)\n",
    "  \n",
    "    prediction = model.predict(np.array(padded_sentence))\n",
    "    print(max(prediction))\n",
    "    if prediction[0][0] == max(prediction[0]):\n",
    "#         print(prediction[0])\n",
    "        print('Positive')\n",
    "    elif prediction[0][1] == max(prediction[0]):\n",
    "#         print(prediction[0])\n",
    "        print('neutral')\n",
    "    elif prediction[0][2] == max(prediction[0]):\n",
    "#         print(prediction[0])\n",
    "        print('negative')\n",
    "\n",
    "    \n",
    "  \n",
    "    finish = input('Do you still want to input another text? [y/n]')\n",
    "    if finish == 'N' or finish == 'n':\n",
    "        done = True"
   ]
  },
  {
   "cell_type": "code",
   "execution_count": null,
   "metadata": {},
   "outputs": [],
   "source": []
  },
  {
   "cell_type": "code",
   "execution_count": null,
   "metadata": {},
   "outputs": [],
   "source": []
  }
 ],
 "metadata": {
  "_change_revision": 0,
  "_is_fork": false,
  "kernelspec": {
   "display_name": "Python 3",
   "language": "python",
   "name": "python3"
  },
  "language_info": {
   "codemirror_mode": {
    "name": "ipython",
    "version": 3
   },
   "file_extension": ".py",
   "mimetype": "text/x-python",
   "name": "python",
   "nbconvert_exporter": "python",
   "pygments_lexer": "ipython3",
   "version": "3.7.1"
  }
 },
 "nbformat": 4,
 "nbformat_minor": 1
}
