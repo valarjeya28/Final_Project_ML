{
 "cells": [
  {
   "cell_type": "code",
   "execution_count": 1,
   "metadata": {},
   "outputs": [
    {
     "name": "stderr",
     "output_type": "stream",
     "text": [
      "Using TensorFlow backend.\n"
     ]
    }
   ],
   "source": [
    "import pandas as pd\n",
    "import numpy as np\n",
    "\n",
    "import nltk\n",
    "from nltk.corpus import stopwords\n",
    "\n",
    "import re\n",
    "\n",
    "from sklearn.model_selection import train_test_split\n",
    "\n",
    "import gensim\n",
    "\n",
    "from keras.preprocessing.text import Tokenizer\n",
    "from keras.preprocessing.sequence import pad_sequences\n",
    "\n",
    "from keras.models import Sequential\n",
    "from keras.layers import Activation, Dense, Dropout, LSTM, Embedding\n",
    "from keras.utils import to_categorical"
   ]
  },
  {
   "cell_type": "code",
   "execution_count": 3,
   "metadata": {},
   "outputs": [],
   "source": [
    "data = pd.read_csv(\"Resources/CL_data/train_K.tsv\", sep=\"\\t\")"
   ]
  },
  {
   "cell_type": "code",
   "execution_count": 4,
   "metadata": {},
   "outputs": [
    {
     "data": {
      "text/html": [
       "<div>\n",
       "<style scoped>\n",
       "    .dataframe tbody tr th:only-of-type {\n",
       "        vertical-align: middle;\n",
       "    }\n",
       "\n",
       "    .dataframe tbody tr th {\n",
       "        vertical-align: top;\n",
       "    }\n",
       "\n",
       "    .dataframe thead th {\n",
       "        text-align: right;\n",
       "    }\n",
       "</style>\n",
       "<table border=\"1\" class=\"dataframe\">\n",
       "  <thead>\n",
       "    <tr style=\"text-align: right;\">\n",
       "      <th></th>\n",
       "      <th>id</th>\n",
       "      <th>tweet</th>\n",
       "      <th>label</th>\n",
       "    </tr>\n",
       "  </thead>\n",
       "  <tbody>\n",
       "    <tr>\n",
       "      <th>0</th>\n",
       "      <td>264183816548130816</td>\n",
       "      <td>Gas by my house hit $3.39!!!! I'm going to Cha...</td>\n",
       "      <td>1</td>\n",
       "    </tr>\n",
       "    <tr>\n",
       "      <th>1</th>\n",
       "      <td>264249301910310912</td>\n",
       "      <td>Iranian general says Israel's Iron Dome can't ...</td>\n",
       "      <td>-1</td>\n",
       "    </tr>\n",
       "    <tr>\n",
       "      <th>2</th>\n",
       "      <td>264105751826538497</td>\n",
       "      <td>with J Davlar 11th. Main rivals are team Polan...</td>\n",
       "      <td>1</td>\n",
       "    </tr>\n",
       "    <tr>\n",
       "      <th>3</th>\n",
       "      <td>264094586689953794</td>\n",
       "      <td>Talking about ACT's &amp;&amp; SAT's, deciding where I...</td>\n",
       "      <td>-1</td>\n",
       "    </tr>\n",
       "    <tr>\n",
       "      <th>4</th>\n",
       "      <td>254941790757601280</td>\n",
       "      <td>They may have a SuperBowl in Dallas, but Dalla...</td>\n",
       "      <td>-1</td>\n",
       "    </tr>\n",
       "    <tr>\n",
       "      <th>5</th>\n",
       "      <td>264169034155696130</td>\n",
       "      <td>Im bringing the monster load of candy tomorrow...</td>\n",
       "      <td>0</td>\n",
       "    </tr>\n",
       "    <tr>\n",
       "      <th>6</th>\n",
       "      <td>263192091700654080</td>\n",
       "      <td>Apple software, retail chiefs out in overhaul:...</td>\n",
       "      <td>0</td>\n",
       "    </tr>\n",
       "    <tr>\n",
       "      <th>7</th>\n",
       "      <td>263398998675693568</td>\n",
       "      <td>@oluoch @victor_otti @kunjand I just watched i...</td>\n",
       "      <td>1</td>\n",
       "    </tr>\n",
       "    <tr>\n",
       "      <th>8</th>\n",
       "      <td>260200142420992000</td>\n",
       "      <td>#Livewire Nadal confirmed for Mexican Open in ...</td>\n",
       "      <td>0</td>\n",
       "    </tr>\n",
       "    <tr>\n",
       "      <th>9</th>\n",
       "      <td>264087629237202944</td>\n",
       "      <td>@MsSheLahY I didnt want to just pop up... but ...</td>\n",
       "      <td>1</td>\n",
       "    </tr>\n",
       "    <tr>\n",
       "      <th>10</th>\n",
       "      <td>250692636330049538</td>\n",
       "      <td>@Alyoup005 @addicted2haley hmmmm  November is ...</td>\n",
       "      <td>0</td>\n",
       "    </tr>\n",
       "    <tr>\n",
       "      <th>11</th>\n",
       "      <td>263304719471087617</td>\n",
       "      <td>#Iran US delisting MKO from global terrorists ...</td>\n",
       "      <td>0</td>\n",
       "    </tr>\n",
       "    <tr>\n",
       "      <th>12</th>\n",
       "      <td>263956867787673600</td>\n",
       "      <td>Good Morning Becky ! Thursday is going to be F...</td>\n",
       "      <td>1</td>\n",
       "    </tr>\n",
       "    <tr>\n",
       "      <th>13</th>\n",
       "      <td>263975113404342273</td>\n",
       "      <td>Expect light-moderate rains over E. Visayas; C...</td>\n",
       "      <td>0</td>\n",
       "    </tr>\n",
       "    <tr>\n",
       "      <th>14</th>\n",
       "      <td>257343699460173824</td>\n",
       "      <td>One ticket left for the @49ers game tomorrow! ...</td>\n",
       "      <td>1</td>\n",
       "    </tr>\n",
       "    <tr>\n",
       "      <th>15</th>\n",
       "      <td>264125591337463808</td>\n",
       "      <td>AFC away fans on Saturday. All this stuff abou...</td>\n",
       "      <td>-1</td>\n",
       "    </tr>\n",
       "    <tr>\n",
       "      <th>16</th>\n",
       "      <td>264259830590603264</td>\n",
       "      <td>Why is it so hard to find the @TVGuideMagazine...</td>\n",
       "      <td>-1</td>\n",
       "    </tr>\n",
       "    <tr>\n",
       "      <th>17</th>\n",
       "      <td>264223934403211264</td>\n",
       "      <td>@TrevorJavier the heat game may cost alot more...</td>\n",
       "      <td>0</td>\n",
       "    </tr>\n",
       "    <tr>\n",
       "      <th>18</th>\n",
       "      <td>264041764460036096</td>\n",
       "      <td>Never start working on your dreams and goals t...</td>\n",
       "      <td>1</td>\n",
       "    </tr>\n",
       "    <tr>\n",
       "      <th>19</th>\n",
       "      <td>264102295392882689</td>\n",
       "      <td>@TheFFAddict I had Vick and Flacco, needed an ...</td>\n",
       "      <td>1</td>\n",
       "    </tr>\n",
       "  </tbody>\n",
       "</table>\n",
       "</div>"
      ],
      "text/plain": [
       "                    id                                              tweet  \\\n",
       "0   264183816548130816  Gas by my house hit $3.39!!!! I'm going to Cha...   \n",
       "1   264249301910310912  Iranian general says Israel's Iron Dome can't ...   \n",
       "2   264105751826538497  with J Davlar 11th. Main rivals are team Polan...   \n",
       "3   264094586689953794  Talking about ACT's && SAT's, deciding where I...   \n",
       "4   254941790757601280  They may have a SuperBowl in Dallas, but Dalla...   \n",
       "5   264169034155696130  Im bringing the monster load of candy tomorrow...   \n",
       "6   263192091700654080  Apple software, retail chiefs out in overhaul:...   \n",
       "7   263398998675693568  @oluoch @victor_otti @kunjand I just watched i...   \n",
       "8   260200142420992000  #Livewire Nadal confirmed for Mexican Open in ...   \n",
       "9   264087629237202944  @MsSheLahY I didnt want to just pop up... but ...   \n",
       "10  250692636330049538  @Alyoup005 @addicted2haley hmmmm  November is ...   \n",
       "11  263304719471087617  #Iran US delisting MKO from global terrorists ...   \n",
       "12  263956867787673600  Good Morning Becky ! Thursday is going to be F...   \n",
       "13  263975113404342273  Expect light-moderate rains over E. Visayas; C...   \n",
       "14  257343699460173824  One ticket left for the @49ers game tomorrow! ...   \n",
       "15  264125591337463808  AFC away fans on Saturday. All this stuff abou...   \n",
       "16  264259830590603264  Why is it so hard to find the @TVGuideMagazine...   \n",
       "17  264223934403211264  @TrevorJavier the heat game may cost alot more...   \n",
       "18  264041764460036096  Never start working on your dreams and goals t...   \n",
       "19  264102295392882689  @TheFFAddict I had Vick and Flacco, needed an ...   \n",
       "\n",
       "    label  \n",
       "0       1  \n",
       "1      -1  \n",
       "2       1  \n",
       "3      -1  \n",
       "4      -1  \n",
       "5       0  \n",
       "6       0  \n",
       "7       1  \n",
       "8       0  \n",
       "9       1  \n",
       "10      0  \n",
       "11      0  \n",
       "12      1  \n",
       "13      0  \n",
       "14      1  \n",
       "15     -1  \n",
       "16     -1  \n",
       "17      0  \n",
       "18      1  \n",
       "19      1  "
      ]
     },
     "execution_count": 4,
     "metadata": {},
     "output_type": "execute_result"
    }
   ],
   "source": [
    "data.head(20)"
   ]
  },
  {
   "cell_type": "code",
   "execution_count": 5,
   "metadata": {},
   "outputs": [
    {
     "data": {
      "text/plain": [
       "(7589, 3)"
      ]
     },
     "execution_count": 5,
     "metadata": {},
     "output_type": "execute_result"
    }
   ],
   "source": [
    "data.shape"
   ]
  },
  {
   "cell_type": "code",
   "execution_count": 6,
   "metadata": {},
   "outputs": [
    {
     "data": {
      "text/plain": [
       " 0    3691\n",
       " 1    2834\n",
       "-1    1064\n",
       "Name: label, dtype: int64"
      ]
     },
     "execution_count": 6,
     "metadata": {},
     "output_type": "execute_result"
    }
   ],
   "source": [
    "data[\"label\"].value_counts()"
   ]
  },
  {
   "cell_type": "markdown",
   "metadata": {},
   "source": [
    "## Cleaning the data"
   ]
  },
  {
   "cell_type": "code",
   "execution_count": 7,
   "metadata": {},
   "outputs": [],
   "source": [
    "# dropping id column\n",
    "\n",
    "data = data.drop(\"id\", axis=1)"
   ]
  },
  {
   "cell_type": "code",
   "execution_count": 8,
   "metadata": {},
   "outputs": [],
   "source": [
    "stopwords = stopwords.words('english')"
   ]
  },
  {
   "cell_type": "code",
   "execution_count": 9,
   "metadata": {},
   "outputs": [],
   "source": [
    "def tweet_cleaner(tweet):\n",
    "    tweet = re.sub(r\"@\\w*\", \" \", str(tweet).lower()).strip() #removing username\n",
    "    tweet = re.sub(r'https?://[A-Za-z0-9./]+', \" \", str(tweet).lower()).strip() #removing links\n",
    "    tweet = re.sub(r'[^a-zA-Z]', \" \", str(tweet).lower()).strip() #removing sp_char\n",
    "    tw = []\n",
    "    \n",
    "    for text in tweet.split():\n",
    "        if text not in stopwords:\n",
    "            tw.append(text)\n",
    "    \n",
    "    return \" \".join(tw)"
   ]
  },
  {
   "cell_type": "code",
   "execution_count": 10,
   "metadata": {},
   "outputs": [],
   "source": [
    "data.tweet = data.tweet.apply(lambda x: tweet_cleaner(x))"
   ]
  },
  {
   "cell_type": "markdown",
   "metadata": {},
   "source": [
    "### word2vec"
   ]
  },
  {
   "cell_type": "code",
   "execution_count": 11,
   "metadata": {},
   "outputs": [],
   "source": [
    "documents = [text.split() for text in data.tweet]"
   ]
  },
  {
   "cell_type": "code",
   "execution_count": 12,
   "metadata": {},
   "outputs": [
    {
     "data": {
      "text/plain": [
       "7589"
      ]
     },
     "execution_count": 12,
     "metadata": {},
     "output_type": "execute_result"
    }
   ],
   "source": [
    "len(documents)"
   ]
  },
  {
   "cell_type": "code",
   "execution_count": 13,
   "metadata": {},
   "outputs": [],
   "source": [
    "w2v_model = gensim.models.word2vec.Word2Vec(size = 256, window = 7, min_count = 5)"
   ]
  },
  {
   "cell_type": "code",
   "execution_count": 14,
   "metadata": {},
   "outputs": [],
   "source": [
    "w2v_model.build_vocab(documents)"
   ]
  },
  {
   "cell_type": "code",
   "execution_count": 15,
   "metadata": {},
   "outputs": [
    {
     "data": {
      "text/plain": [
       "(1997973, 2751136)"
      ]
     },
     "execution_count": 15,
     "metadata": {},
     "output_type": "execute_result"
    }
   ],
   "source": [
    "w2v_model.train(documents, total_examples=len(documents), epochs=32)"
   ]
  },
  {
   "cell_type": "code",
   "execution_count": 37,
   "metadata": {},
   "outputs": [
    {
     "data": {
      "text/plain": [
       "array([ 0.24965465,  0.43766186,  0.19290075,  0.250684  ,  0.06314775,\n",
       "       -0.01648778, -0.39419493, -0.36667046, -0.38766044,  0.31361103,\n",
       "        0.20026943,  0.04479902, -0.14457338,  0.35593495, -0.22319797,\n",
       "       -0.27218124,  0.3576334 ,  0.29744104, -0.01993314, -0.07666172,\n",
       "        0.0562663 , -0.04541628, -0.29435062,  0.22949773,  0.13758448,\n",
       "       -0.20978875, -0.04812137,  0.10120973,  0.12156332,  0.15375426,\n",
       "       -0.1694644 ,  0.2937742 , -0.13212268,  0.19876514, -0.17425032,\n",
       "       -0.13143541,  0.1331478 ,  0.09055082, -0.18663642, -0.1771004 ,\n",
       "       -0.21306203,  0.24455754, -0.1206401 ,  0.21580699, -0.27825752,\n",
       "       -0.03186091,  0.08516176, -0.32230636,  0.14660826, -0.0928966 ,\n",
       "        0.01597192, -0.30821905, -0.05036233, -0.28636187, -0.15881534,\n",
       "       -0.24499513,  0.13279466, -0.14328736,  0.08959588,  0.1776559 ,\n",
       "       -0.20604728,  0.27289712,  0.06550793,  0.5347871 , -0.2856566 ,\n",
       "        0.08157673, -0.15944466,  0.0705123 ,  0.02696706, -0.04487937,\n",
       "        0.15450354, -0.26634055, -0.18559767,  0.17828672,  0.00102875,\n",
       "        0.39963755,  0.00264254,  0.24931756, -0.2744703 ,  0.00345219,\n",
       "       -0.4400434 ,  0.1432924 , -0.17917016, -0.2025123 ,  0.2319292 ,\n",
       "       -0.5191122 ,  0.23564105, -0.26245847,  0.1865261 , -0.05672425,\n",
       "       -0.22202697,  0.23585287,  0.02947682,  0.02796475, -0.03972584,\n",
       "        0.18527782,  0.03439921,  0.11920477, -0.22478399,  0.13697067,\n",
       "        0.18087746,  0.28979078,  0.27227598, -0.02122415, -0.12606657,\n",
       "        0.11157519,  0.15802906,  0.196735  ,  0.11060254,  0.0923012 ,\n",
       "       -0.32959417, -0.26605612, -0.260133  , -0.1175534 , -0.05511253,\n",
       "       -0.03400778, -0.00990089, -0.23009978,  0.08609004,  0.22831969,\n",
       "        0.2307419 , -0.21800564, -0.09149718,  0.2516407 ,  0.05466205,\n",
       "        0.02616603, -0.05105385,  0.38217774, -0.07838146, -0.16597813,\n",
       "       -0.26441973,  0.2324478 ,  0.01960025, -0.2875043 ,  0.17874862,\n",
       "        0.23628901,  0.10130373,  0.12703958,  0.07974404, -0.06112006,\n",
       "       -0.08330039, -0.0378738 , -0.03706441, -0.23048455, -0.39817652,\n",
       "        0.17546475, -0.00485405, -0.54678303, -0.4475429 , -0.537891  ,\n",
       "       -0.04033373,  0.03855681, -0.05816523,  0.16899897,  0.1063984 ,\n",
       "        0.05707544,  0.56400156, -0.3429776 , -0.01948425, -0.08394834,\n",
       "       -0.32194057, -0.2594978 ,  0.02231555,  0.12997301,  0.0365211 ,\n",
       "        0.0048707 ,  0.43998152,  0.24149965, -0.20833641, -0.15657131,\n",
       "        0.44650516,  0.1591789 , -0.4324658 ,  0.08668255, -0.4753646 ,\n",
       "       -0.18011172, -0.43115923,  0.1699596 ,  0.12588142, -0.12745872,\n",
       "        0.10706564, -0.4746354 , -0.00670029,  0.00099366, -0.25337186,\n",
       "        0.06102791,  0.1942569 , -0.13037403,  0.0726919 , -0.60818183,\n",
       "       -0.17169861,  0.09751572,  0.06507034,  0.26401153, -0.05931475,\n",
       "        0.03224535,  0.16031267, -0.06163617, -0.05592649, -0.08474573,\n",
       "       -0.08662835, -0.06869145, -0.10915276, -0.12833329,  0.03013694,\n",
       "        0.09837396,  0.03558239, -0.15031217,  0.5553461 , -0.07126526,\n",
       "        0.37584302,  0.20899653,  0.2809594 ,  0.07634099, -0.15173982,\n",
       "        0.04863258, -0.46898997,  0.12420604, -0.26750714,  0.02361531,\n",
       "        0.16713965,  0.24013539,  0.09030847,  0.00290916,  0.10834672,\n",
       "        0.14870605, -0.14292838, -0.17760804,  0.30604735, -0.19475342,\n",
       "       -0.27145126, -0.00994493, -0.16281778, -0.03097145, -0.34430242,\n",
       "       -0.5051723 , -0.3289768 ,  0.00952021, -0.05493229, -0.40723628,\n",
       "       -0.05005432,  0.24056703, -0.23701447,  0.2186628 ,  0.327972  ,\n",
       "        0.48630658, -0.01074944, -0.07306957,  0.16501126,  0.22055566,\n",
       "        0.00528105, -0.02744417,  0.12024044, -0.13800302, -0.1888239 ,\n",
       "        0.15002261], dtype=float32)"
      ]
     },
     "execution_count": 37,
     "metadata": {},
     "output_type": "execute_result"
    }
   ],
   "source": [
    "w2v_model.wv[\"candy\"]"
   ]
  },
  {
   "cell_type": "markdown",
   "metadata": {},
   "source": [
    "### Converting tweets to vectors"
   ]
  },
  {
   "cell_type": "code",
   "execution_count": 38,
   "metadata": {},
   "outputs": [],
   "source": [
    "tokenizer = Tokenizer()\n",
    "tokenizer.fit_on_texts(data.tweet)"
   ]
  },
  {
   "cell_type": "code",
   "execution_count": 39,
   "metadata": {},
   "outputs": [
    {
     "data": {
      "text/plain": [
       "14849"
      ]
     },
     "execution_count": 39,
     "metadata": {},
     "output_type": "execute_result"
    }
   ],
   "source": [
    "len(tokenizer.word_index)"
   ]
  },
  {
   "cell_type": "code",
   "execution_count": 40,
   "metadata": {},
   "outputs": [],
   "source": [
    "x_train = pad_sequences(tokenizer.texts_to_sequences(data.tweet), maxlen=256, padding=\"post\", truncating=\"post\")"
   ]
  },
  {
   "cell_type": "code",
   "execution_count": 41,
   "metadata": {},
   "outputs": [
    {
     "data": {
      "text/plain": [
       "array([[ 2448,    95,   259, ...,     0,     0,     0],\n",
       "       [ 6518,  2183,   143, ...,     0,     0,     0],\n",
       "       [ 1003,  6520,     2, ...,     0,     0,     0],\n",
       "       ...,\n",
       "       [  822,   181,  2377, ...,     0,     0,     0],\n",
       "       [   54,    15,  6516, ...,     0,     0,     0],\n",
       "       [14847,   432,   555, ...,     0,     0,     0]], dtype=int32)"
      ]
     },
     "execution_count": 41,
     "metadata": {},
     "output_type": "execute_result"
    }
   ],
   "source": [
    "x_train"
   ]
  },
  {
   "cell_type": "code",
   "execution_count": 42,
   "metadata": {},
   "outputs": [],
   "source": [
    "y_train = data.label\n",
    "\n",
    "y_train_f = []\n",
    "for x in y_train:\n",
    "    if x == 1:\n",
    "        y_train_f.append(1)\n",
    "    elif x == 0:\n",
    "        y_train_f.append(0)\n",
    "    elif x == -1:\n",
    "        y_train_f.append(2)\n",
    "        \n",
    "y_train_f = to_categorical(y_train_f)"
   ]
  },
  {
   "cell_type": "code",
   "execution_count": 43,
   "metadata": {},
   "outputs": [
    {
     "data": {
      "text/plain": [
       "array([[0., 1., 0.],\n",
       "       [0., 0., 1.],\n",
       "       [0., 1., 0.],\n",
       "       ...,\n",
       "       [1., 0., 0.],\n",
       "       [0., 1., 0.],\n",
       "       [0., 0., 1.]], dtype=float32)"
      ]
     },
     "execution_count": 43,
     "metadata": {},
     "output_type": "execute_result"
    }
   ],
   "source": [
    "y_train_f"
   ]
  },
  {
   "cell_type": "markdown",
   "metadata": {},
   "source": [
    "### Model"
   ]
  },
  {
   "cell_type": "code",
   "execution_count": 44,
   "metadata": {},
   "outputs": [],
   "source": [
    "embedding_matrix = np.zeros((14850,256))"
   ]
  },
  {
   "cell_type": "code",
   "execution_count": 45,
   "metadata": {},
   "outputs": [],
   "source": [
    "for word, i in tokenizer.word_index.items():\n",
    "    if word in w2v_model.wv:\n",
    "        embedding_matrix[i] = w2v_model.wv[word]"
   ]
  },
  {
   "cell_type": "code",
   "execution_count": 46,
   "metadata": {},
   "outputs": [],
   "source": [
    "embedding_layer = Embedding(14850, 256, weights=[embedding_matrix], input_length=256, trainable=False)"
   ]
  },
  {
   "cell_type": "code",
   "execution_count": 47,
   "metadata": {},
   "outputs": [],
   "source": [
    "model = Sequential()\n",
    "model.add(embedding_layer)\n",
    "model.add(Dropout(0.25))\n",
    "model.add(Dense(200, activation=\"relu\"))\n",
    "model.add(Dropout(0.25))\n",
    "model.add(LSTM(100, dropout=0.2, recurrent_dropout=0.2))\n",
    "model.add(Dense(50, activation=\"relu\"))\n",
    "model.add(Dense(3, activation=\"softmax\"))"
   ]
  },
  {
   "cell_type": "code",
   "execution_count": 48,
   "metadata": {},
   "outputs": [
    {
     "name": "stdout",
     "output_type": "stream",
     "text": [
      "_________________________________________________________________\n",
      "Layer (type)                 Output Shape              Param #   \n",
      "=================================================================\n",
      "embedding_2 (Embedding)      (None, 256, 256)          3801600   \n",
      "_________________________________________________________________\n",
      "dropout_3 (Dropout)          (None, 256, 256)          0         \n",
      "_________________________________________________________________\n",
      "dense_4 (Dense)              (None, 256, 200)          51400     \n",
      "_________________________________________________________________\n",
      "dropout_4 (Dropout)          (None, 256, 200)          0         \n",
      "_________________________________________________________________\n",
      "lstm_2 (LSTM)                (None, 100)               120400    \n",
      "_________________________________________________________________\n",
      "dense_5 (Dense)              (None, 50)                5050      \n",
      "_________________________________________________________________\n",
      "dense_6 (Dense)              (None, 3)                 153       \n",
      "=================================================================\n",
      "Total params: 3,978,603\n",
      "Trainable params: 177,003\n",
      "Non-trainable params: 3,801,600\n",
      "_________________________________________________________________\n"
     ]
    }
   ],
   "source": [
    "model.summary()"
   ]
  },
  {
   "cell_type": "code",
   "execution_count": 49,
   "metadata": {},
   "outputs": [],
   "source": [
    "model.compile(loss='categorical_crossentropy',\n",
    "              optimizer=\"adam\",\n",
    "              metrics=['accuracy'])"
   ]
  },
  {
   "cell_type": "code",
   "execution_count": 50,
   "metadata": {},
   "outputs": [
    {
     "name": "stdout",
     "output_type": "stream",
     "text": [
      "Train on 6830 samples, validate on 759 samples\n",
      "Epoch 1/4\n",
      "6830/6830 [==============================] - 92s 14ms/step - loss: 1.0010 - acc: 0.4902 - val_loss: 1.0313 - val_acc: 0.3939\n",
      "Epoch 2/4\n",
      "6830/6830 [==============================] - 112s 16ms/step - loss: 0.9945 - acc: 0.4966 - val_loss: 1.0158 - val_acc: 0.3939\n",
      "Epoch 3/4\n",
      "6830/6830 [==============================] - 96s 14ms/step - loss: 0.9947 - acc: 0.4966 - val_loss: 1.0310 - val_acc: 0.3939\n",
      "Epoch 4/4\n",
      "6830/6830 [==============================] - 123s 18ms/step - loss: 0.9945 - acc: 0.4966 - val_loss: 1.0183 - val_acc: 0.3939\n"
     ]
    },
    {
     "data": {
      "text/plain": [
       "<keras.callbacks.History at 0x1a3e4c7828>"
      ]
     },
     "execution_count": 50,
     "metadata": {},
     "output_type": "execute_result"
    }
   ],
   "source": [
    "model.fit(x_train, y_train_f, batch_size=32, epochs=4, validation_split=0.1, verbose=1)"
   ]
  },
  {
   "cell_type": "markdown",
   "metadata": {},
   "source": [
    "### Testing"
   ]
  },
  {
   "cell_type": "code",
   "execution_count": 51,
   "metadata": {},
   "outputs": [],
   "source": [
    "def sentiment(text):\n",
    "    \n",
    "    x_test = pad_sequences(tokenizer.texts_to_sequences([text]), maxlen=256)\n",
    "    score = model.predict([x_test])[0]\n",
    "    \n",
    "    final = \"Positive = %f ,Negative = %f, Neutral = %f\" % (score[1], score[2], score[0])\n",
    "    return print(final)"
   ]
  },
  {
   "cell_type": "code",
   "execution_count": 52,
   "metadata": {},
   "outputs": [
    {
     "name": "stdout",
     "output_type": "stream",
     "text": [
      "Positive = 0.353107 ,Negative = 0.104911, Neutral = 0.541982\n"
     ]
    }
   ],
   "source": [
    "sentiment(\"My teachers call themselves givng us candy\")"
   ]
  },
  {
   "cell_type": "code",
   "execution_count": null,
   "metadata": {},
   "outputs": [],
   "source": []
  },
  {
   "cell_type": "code",
   "execution_count": null,
   "metadata": {},
   "outputs": [],
   "source": []
  }
 ],
 "metadata": {
  "kernelspec": {
   "display_name": "Python 3",
   "language": "python",
   "name": "python3"
  },
  "language_info": {
   "codemirror_mode": {
    "name": "ipython",
    "version": 3
   },
   "file_extension": ".py",
   "mimetype": "text/x-python",
   "name": "python",
   "nbconvert_exporter": "python",
   "pygments_lexer": "ipython3",
   "version": "3.7.1"
  }
 },
 "nbformat": 4,
 "nbformat_minor": 1
}
